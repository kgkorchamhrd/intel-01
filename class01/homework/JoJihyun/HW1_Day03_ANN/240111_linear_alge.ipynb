{
 "cells": [
  {
   "cell_type": "code",
   "execution_count": 48,
   "id": "468d6f33-e8e1-4264-8eea-9037ce24e784",
   "metadata": {},
   "outputs": [
    {
     "name": "stdout",
     "output_type": "stream",
     "text": [
      "[[1 4 2 0]\n",
      " [9 5 0 0]\n",
      " [4 0 2 4]\n",
      " [6 1 8 3]]\n",
      "[[1]\n",
      " [2]\n",
      " [3]\n",
      " [4]]\n"
     ]
    }
   ],
   "source": [
    "import numpy as np\n",
    "\n",
    "A = np.matrix('1, 4, 2, 0; 9, 5, 0, 0; 4, 0, 2, 4; 6, 1, 8, 3')\n",
    "x = np.matrix('1;2;3;4')\n",
    "print(A)\n",
    "print(x)"
   ]
  },
  {
   "cell_type": "code",
   "execution_count": 49,
   "id": "e8612c13-8d9d-42c2-bb76-715b91bdc2f0",
   "metadata": {},
   "outputs": [
    {
     "name": "stdout",
     "output_type": "stream",
     "text": [
      "(4, 4)\n",
      "(4, 1)\n",
      "A*x= [[15]\n",
      " [19]\n",
      " [26]\n",
      " [44]]\n"
     ]
    }
   ],
   "source": [
    "print(A.shape)\n",
    "print(x.shape)\n",
    "b=A*x\n",
    "print(\"A*x=\", b)"
   ]
  },
  {
   "cell_type": "code",
   "execution_count": 50,
   "id": "fe38ebca-38de-4def-b26d-c6345926ed89",
   "metadata": {},
   "outputs": [],
   "source": [
    "A=np.array([\\\n",
    "           [1, 4, 2, 0],\\\n",
    "           [9, 5, 0, 0],\\\n",
    "           [4, 0, 2, 4],\\\n",
    "           [6, 1, 8, 3]])\n",
    "x = np.array([1, 2, 3, 4]).reshape(1, -1)"
   ]
  },
  {
   "cell_type": "code",
   "execution_count": 51,
   "id": "64393593-35e4-40aa-a646-206ca33fe2ec",
   "metadata": {},
   "outputs": [
    {
     "name": "stdout",
     "output_type": "stream",
     "text": [
      "[[1 4 2 0]\n",
      " [9 5 0 0]\n",
      " [4 0 2 4]\n",
      " [6 1 8 3]]\n",
      "[[1 2 3 4]]\n"
     ]
    }
   ],
   "source": [
    "print(A)\n",
    "print(x)"
   ]
  },
  {
   "cell_type": "code",
   "execution_count": 53,
   "id": "98145982-0054-4418-93bb-3c3bdef49adc",
   "metadata": {},
   "outputs": [
    {
     "name": "stdout",
     "output_type": "stream",
     "text": [
      "(4, 4)\n",
      "(4, 1)\n",
      "[[15]\n",
      " [19]\n",
      " [26]\n",
      " [44]]\n"
     ]
    }
   ],
   "source": [
    "print(A.shape)\n",
    "print(x.T.shape)\n",
    "b = A@x.T\n",
    "\n",
    "print(b)"
   ]
  },
  {
   "cell_type": "code",
   "execution_count": 54,
   "id": "c972e9e3-3922-4a43-965c-8a7851c9394a",
   "metadata": {},
   "outputs": [],
   "source": [
    "A=np.array([\\\n",
    "           [4, 5, 2, 1],\\\n",
    "           [2, 3, 8, 0],\\\n",
    "           [1, 0, 7, 2]])\n",
    "x = np.array([[1], [2], [3], [4]])"
   ]
  },
  {
   "cell_type": "code",
   "execution_count": 55,
   "id": "0fe033a9-5a60-419f-a027-f9e7f732d451",
   "metadata": {},
   "outputs": [
    {
     "name": "stdout",
     "output_type": "stream",
     "text": [
      "[[4 5 2 1]\n",
      " [2 3 8 0]\n",
      " [1 0 7 2]]\n",
      "[[1]\n",
      " [2]\n",
      " [3]\n",
      " [4]]\n"
     ]
    }
   ],
   "source": [
    "print(A)\n",
    "print(x)"
   ]
  },
  {
   "cell_type": "code",
   "execution_count": 60,
   "id": "13c8ac6e-2a4a-4c6f-867a-db984736bd7c",
   "metadata": {},
   "outputs": [
    {
     "name": "stdout",
     "output_type": "stream",
     "text": [
      "(3, 4)\n",
      "(4, 1)\n",
      "[[24]\n",
      " [32]\n",
      " [30]]\n"
     ]
    }
   ],
   "source": [
    "print(A.shape)\n",
    "print(x.shape)\n",
    "\n",
    "b = A@x\n",
    "print(b)"
   ]
  }
 ],
 "metadata": {
  "kernelspec": {
   "display_name": "Python 3 (ipykernel)",
   "language": "python",
   "name": "python3"
  },
  "language_info": {
   "codemirror_mode": {
    "name": "ipython",
    "version": 3
   },
   "file_extension": ".py",
   "mimetype": "text/x-python",
   "name": "python",
   "nbconvert_exporter": "python",
   "pygments_lexer": "ipython3",
   "version": "3.10.12"
  }
 },
 "nbformat": 4,
 "nbformat_minor": 5
}
