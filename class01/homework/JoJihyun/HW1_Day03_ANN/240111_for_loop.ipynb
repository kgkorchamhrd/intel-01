{
 "cells": [
  {
   "cell_type": "code",
   "execution_count": 1,
   "id": "3eaa44c0-336b-4154-92ed-f5f97b363f93",
   "metadata": {},
   "outputs": [
    {
     "name": "stdout",
     "output_type": "stream",
     "text": [
      "1 2\n",
      "3 4\n",
      "5 6\n"
     ]
    }
   ],
   "source": [
    "items = [[1, 2], [3, 4], [5, 6]]\n",
    "for item in items:\n",
    "    print(item[0], item[1])"
   ]
  },
  {
   "cell_type": "code",
   "execution_count": 2,
   "id": "301db889-8bc8-42dd-bd9e-5ff4bfea7801",
   "metadata": {},
   "outputs": [
    {
     "name": "stdout",
     "output_type": "stream",
     "text": [
      "1 [[1, 2], [3, 4], [5, 6]]\n",
      "3 [[1, 2], [3, 4], [5, 6]]\n",
      "5 [[1, 2], [3, 4], [5, 6]]\n"
     ]
    }
   ],
   "source": [
    "for item1, item2 in items:\n",
    "    print(item1, items)"
   ]
  },
  {
   "cell_type": "code",
   "execution_count": 3,
   "id": "662f8486-2616-4e02-997b-377878d62ee6",
   "metadata": {},
   "outputs": [
    {
     "name": "stdout",
     "output_type": "stream",
     "text": [
      "1 2\n",
      "3 4\n",
      "5 6\n"
     ]
    }
   ],
   "source": [
    "items = [(1, 2), (3, 4), (5, 6)]\n",
    "for item1, item2 in items:\n",
    "    print(item1, item2)"
   ]
  },
  {
   "cell_type": "code",
   "execution_count": 4,
   "id": "f0bb3dca-1615-4362-9d69-11f223b2a2f5",
   "metadata": {},
   "outputs": [
    {
     "name": "stdout",
     "output_type": "stream",
     "text": [
      "A 1\n",
      "B 2\n",
      "C 3\n"
     ]
    }
   ],
   "source": [
    "info = {'A' : 1, 'B' : 2, 'C' : 3}\n",
    "for key in info:\n",
    "    print(key, info[key])"
   ]
  },
  {
   "cell_type": "code",
   "execution_count": 6,
   "id": "48204c90-173f-4264-ace2-59451d2b73cf",
   "metadata": {},
   "outputs": [
    {
     "name": "stdout",
     "output_type": "stream",
     "text": [
      "A 1\n",
      "B 2\n",
      "C 3\n"
     ]
    }
   ],
   "source": [
    "for key, value in info.items():\n",
    "    print(key, value)"
   ]
  },
  {
   "cell_type": "code",
   "execution_count": 7,
   "id": "2b2133b4-3d8e-4f71-9611-a78ca7775059",
   "metadata": {},
   "outputs": [
    {
     "name": "stdout",
     "output_type": "stream",
     "text": [
      "[[1, 2], [3, 4], [5, 6]]\n",
      "[['A', 'B'], ['C', 'D'], ['E', 'F']]\n"
     ]
    }
   ],
   "source": [
    "items1 = [[1, 2], [3, 4], [5, 6]]\n",
    "items2 = [['A', 'B'], ['C', 'D'], ['E', 'F']]\n",
    "\n",
    "print(items1)\n",
    "print(items2)"
   ]
  },
  {
   "cell_type": "code",
   "execution_count": 8,
   "id": "b3cb1225-f971-4a46-b611-3e5406c820ee",
   "metadata": {},
   "outputs": [
    {
     "name": "stdout",
     "output_type": "stream",
     "text": [
      "[1, 2] ['A', 'B']\n",
      "[3, 4] ['C', 'D']\n",
      "[5, 6] ['E', 'F']\n"
     ]
    }
   ],
   "source": [
    "for digits, characters in zip(items1, items2):\n",
    "    print(digits, characters)"
   ]
  },
  {
   "cell_type": "code",
   "execution_count": 9,
   "id": "4216fe6d-753a-428b-8591-306c1c16cdcd",
   "metadata": {},
   "outputs": [
    {
     "name": "stdout",
     "output_type": "stream",
     "text": [
      "[0, 1, 2, 3, 4]\n"
     ]
    }
   ],
   "source": [
    "a = []\n",
    "for k in range(0, 5):\n",
    "    a.append(k)\n",
    "print(a)"
   ]
  },
  {
   "cell_type": "code",
   "execution_count": 10,
   "id": "90410449-32bf-44d3-aaf0-9925d2bd23b5",
   "metadata": {},
   "outputs": [
    {
     "name": "stdout",
     "output_type": "stream",
     "text": [
      "[0, 1, 2, 3, 4]\n"
     ]
    }
   ],
   "source": [
    "a = [k for k in range(0, 5)]\n",
    "print(a)"
   ]
  },
  {
   "cell_type": "code",
   "execution_count": 11,
   "id": "e4ada888-fd8b-41c4-ac0b-953d4bbd118d",
   "metadata": {},
   "outputs": [
    {
     "name": "stdout",
     "output_type": "stream",
     "text": [
      "{0: 0, 1: 10, 2: 20, 3: 30, 4: 40}\n"
     ]
    }
   ],
   "source": [
    "a = {k : k*10 for k in range(0, 5)}\n",
    "print(a)"
   ]
  }
 ],
 "metadata": {
  "kernelspec": {
   "display_name": "Python 3 (ipykernel)",
   "language": "python",
   "name": "python3"
  },
  "language_info": {
   "codemirror_mode": {
    "name": "ipython",
    "version": 3
   },
   "file_extension": ".py",
   "mimetype": "text/x-python",
   "name": "python",
   "nbconvert_exporter": "python",
   "pygments_lexer": "ipython3",
   "version": "3.10.12"
  }
 },
 "nbformat": 4,
 "nbformat_minor": 5
}
