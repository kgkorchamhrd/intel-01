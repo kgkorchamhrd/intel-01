{
 "cells": [
  {
   "cell_type": "code",
   "execution_count": 1,
   "id": "7726c998-4e90-4a91-80fa-d75876bf56af",
   "metadata": {},
   "outputs": [],
   "source": [
    "f = lambda x,y : x + y"
   ]
  },
  {
   "cell_type": "code",
   "execution_count": 2,
   "id": "21bf294e-d17a-447c-9bb0-57024192b80f",
   "metadata": {},
   "outputs": [
    {
     "name": "stdout",
     "output_type": "stream",
     "text": [
      "3.0\n"
     ]
    }
   ],
   "source": [
    "a = 1\n",
    "b = 2.\n",
    "d = f(a,b)\n",
    "print(d)"
   ]
  },
  {
   "cell_type": "code",
   "execution_count": null,
   "id": "4c86cb29-8c0a-4d84-8d6d-da58ff48c201",
   "metadata": {},
   "outputs": [],
   "source": []
  }
 ],
 "metadata": {
  "kernelspec": {
   "display_name": "Python 3 (ipykernel)",
   "language": "python",
   "name": "python3"
  },
  "language_info": {
   "codemirror_mode": {
    "name": "ipython",
    "version": 3
   },
   "file_extension": ".py",
   "mimetype": "text/x-python",
   "name": "python",
   "nbconvert_exporter": "python",
   "pygments_lexer": "ipython3",
   "version": "3.10.12"
  }
 },
 "nbformat": 4,
 "nbformat_minor": 5
}
