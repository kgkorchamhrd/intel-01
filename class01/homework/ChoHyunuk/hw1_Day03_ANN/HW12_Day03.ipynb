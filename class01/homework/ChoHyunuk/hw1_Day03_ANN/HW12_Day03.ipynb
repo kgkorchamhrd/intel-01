{
 "cells": [
  {
   "cell_type": "code",
   "execution_count": 2,
   "id": "126c126c-c0cb-4133-9c1b-4d55364e89f3",
   "metadata": {},
   "outputs": [
    {
     "name": "stdout",
     "output_type": "stream",
     "text": [
      "[[1 4 2 0]\n",
      " [9 5 0 0]\n",
      " [4 0 2 4]\n",
      " [6 1 8 3]]\n",
      "[[1 2 3 4]]\n",
      "A*x= [[15]\n",
      " [19]\n",
      " [26]\n",
      " [44]]\n"
     ]
    }
   ],
   "source": [
    "import numpy as np\n",
    "A = np.matrix('\\\n",
    "1, 4, 2, 0;\\\n",
    "9, 5, 0, 0;\\\n",
    "4, 0, 2, 4;\\\n",
    "6, 1, 8, 3')\n",
    "x = np.matrix('1,2,3,4')\n",
    "print(A)\n",
    "print(x)\n",
    "b=A*x.T\n",
    "print(\"A*x=\",b)"
   ]
  },
  {
   "cell_type": "code",
   "execution_count": 10,
   "id": "b211a58c-79f4-4ef7-bf1e-edbd1b860dba",
   "metadata": {},
   "outputs": [
    {
     "name": "stdout",
     "output_type": "stream",
     "text": [
      "A*x= [[ 1  8  6  0]\n",
      " [ 9 10  0  0]\n",
      " [ 4  0  6 16]\n",
      " [ 6  2 24 12]]\n"
     ]
    }
   ],
   "source": [
    "A = np.array([\\\n",
    "             [1, 4, 2, 0],\\\n",
    "             [9, 5, 0, 0],\\\n",
    "             [4, 0, 2, 4],\\\n",
    "             [6, 1, 8, 3]])\n",
    "x = np.array([1,2,3,4]).reshape(1,-1)\n",
    "print(\"A*x=\",A*x)"
   ]
  },
  {
   "cell_type": "code",
   "execution_count": 13,
   "id": "d65512a9-9f6b-4171-b1b3-dfa5fd52ddc2",
   "metadata": {},
   "outputs": [
    {
     "name": "stdout",
     "output_type": "stream",
     "text": [
      "A*x= [[24]\n",
      " [32]\n",
      " [30]]\n"
     ]
    }
   ],
   "source": [
    "A = np.matrix('\\\n",
    "             4, 5, 2, 1;\\\n",
    "             2, 3, 8, 0;\\\n",
    "             1, 0, 7, 2')\n",
    "x = np.matrix('1,2,3,4')\n",
    "print(\"A*x=\",A*x.T)"
   ]
  },
  {
   "cell_type": "code",
   "execution_count": null,
   "id": "6166a080-611b-4069-908d-966a39fc4fab",
   "metadata": {},
   "outputs": [],
   "source": []
  },
  {
   "cell_type": "code",
   "execution_count": null,
   "id": "75de1af4-dd01-4a72-8b6a-3bd4a9c3506a",
   "metadata": {},
   "outputs": [],
   "source": []
  }
 ],
 "metadata": {
  "kernelspec": {
   "display_name": "Python 3 (ipykernel)",
   "language": "python",
   "name": "python3"
  },
  "language_info": {
   "codemirror_mode": {
    "name": "ipython",
    "version": 3
   },
   "file_extension": ".py",
   "mimetype": "text/x-python",
   "name": "python",
   "nbconvert_exporter": "python",
   "pygments_lexer": "ipython3",
   "version": "3.10.12"
  }
 },
 "nbformat": 4,
 "nbformat_minor": 5
}
