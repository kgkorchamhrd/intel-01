{
 "cells": [
  {
   "cell_type": "code",
   "execution_count": 1,
   "id": "880298d4-eb40-4e31-8c04-967f2503ead0",
   "metadata": {},
   "outputs": [],
   "source": [
    "def f(x, y):\n",
    "    val = x + y\n",
    "    return val"
   ]
  },
  {
   "cell_type": "code",
   "execution_count": 2,
   "id": "5b02c3ba-e388-4950-bc7a-ac34eff09c79",
   "metadata": {},
   "outputs": [
    {
     "name": "stdout",
     "output_type": "stream",
     "text": [
      "3.0\n"
     ]
    }
   ],
   "source": [
    "a = 1\n",
    "b = 2.\n",
    "d = f(a,b)\n",
    "print(d)"
   ]
  }
 ],
 "metadata": {
  "kernelspec": {
   "display_name": "Python 3 (ipykernel)",
   "language": "python",
   "name": "python3"
  },
  "language_info": {
   "codemirror_mode": {
    "name": "ipython",
    "version": 3
   },
   "file_extension": ".py",
   "mimetype": "text/x-python",
   "name": "python",
   "nbconvert_exporter": "python",
   "pygments_lexer": "ipython3",
   "version": "3.10.12"
  }
 },
 "nbformat": 4,
 "nbformat_minor": 5
}
