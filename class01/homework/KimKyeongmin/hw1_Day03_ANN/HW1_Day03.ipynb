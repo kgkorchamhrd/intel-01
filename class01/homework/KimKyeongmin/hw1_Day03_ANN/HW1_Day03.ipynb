{
 "cells": [
  {
   "cell_type": "code",
   "execution_count": 2,
   "id": "aa37666e-8f6d-49f0-95e9-4ea7301b0f8d",
   "metadata": {},
   "outputs": [],
   "source": [
    "a = 1 # int로 선언\n",
    "b = 2 # float으로 선언\n",
    "c = \"String\" #string으로 선언"
   ]
  },
  {
   "cell_type": "code",
   "execution_count": 3,
   "id": "3f715169-17d0-4bca-8d51-52d25c24a0a5",
   "metadata": {},
   "outputs": [
    {
     "name": "stdout",
     "output_type": "stream",
     "text": [
      "1\n",
      "2\n",
      "String\n"
     ]
    }
   ],
   "source": [
    "print(a)\n",
    "print(b)\n",
    "print(c)"
   ]
  },
  {
   "cell_type": "code",
   "execution_count": 4,
   "id": "76d98a14-33cc-41b8-b074-cbe818252b3c",
   "metadata": {},
   "outputs": [
    {
     "name": "stdout",
     "output_type": "stream",
     "text": [
      "<class 'int'>\n",
      "<class 'int'>\n",
      "<class 'str'>\n"
     ]
    }
   ],
   "source": [
    "print(type(a))\n",
    "print(type(b))\n",
    "print(type(c))"
   ]
  }
 ],
 "metadata": {
  "kernelspec": {
   "display_name": "Python 3 (ipykernel)",
   "language": "python",
   "name": "python3"
  },
  "language_info": {
   "codemirror_mode": {
    "name": "ipython",
    "version": 3
   },
   "file_extension": ".py",
   "mimetype": "text/x-python",
   "name": "python",
   "nbconvert_exporter": "python",
   "pygments_lexer": "ipython3",
   "version": "3.10.12"
  }
 },
 "nbformat": 4,
 "nbformat_minor": 5
}
