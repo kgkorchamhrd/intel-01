{
 "cells": [
  {
   "cell_type": "code",
   "execution_count": 9,
   "id": "7b578a22-0ab7-4060-ab45-0cb0ff24bdc8",
   "metadata": {},
   "outputs": [],
   "source": [
    "# Homework1\n",
    "a = 1\n",
    "b = 2.\n",
    "c = \"String\""
   ]
  },
  {
   "cell_type": "code",
   "execution_count": 10,
   "id": "1b955dfe-668c-4e54-a6a5-e24e8a032fe5",
   "metadata": {},
   "outputs": [
    {
     "name": "stdout",
     "output_type": "stream",
     "text": [
      "1\n",
      "2.0\n",
      "String\n"
     ]
    }
   ],
   "source": [
    "print(a)\n",
    "print(b)\n",
    "print(c)"
   ]
  },
  {
   "cell_type": "code",
   "execution_count": 11,
   "id": "1ab9a19a-7ba5-43d2-b052-75a970200d23",
   "metadata": {},
   "outputs": [
    {
     "name": "stdout",
     "output_type": "stream",
     "text": [
      "<class 'int'>\n",
      "<class 'float'>\n",
      "<class 'str'>\n"
     ]
    }
   ],
   "source": [
    "print(type(a))\n",
    "print(type(b))\n",
    "print(type(c))"
   ]
  },
  {
   "cell_type": "code",
   "execution_count": 12,
   "id": "21417ed6-14c6-4b9c-9b43-8c1b44bc627a",
   "metadata": {},
   "outputs": [],
   "source": [
    "# Homework2\n",
    "def f(x, y):\n",
    "    val = x + y\n",
    "    return val"
   ]
  },
  {
   "cell_type": "code",
   "execution_count": 13,
   "id": "29ffcfcf-8ecf-4a66-aad1-dbb7a39b8a16",
   "metadata": {},
   "outputs": [
    {
     "name": "stdout",
     "output_type": "stream",
     "text": [
      "3.0\n"
     ]
    }
   ],
   "source": [
    "a = 1\n",
    "b = 2.\n",
    "d = f(a,b)\n",
    "print(d)"
   ]
  },
  {
   "cell_type": "code",
   "execution_count": 14,
   "id": "aa000b0f-c284-4561-b385-5f31c60d952f",
   "metadata": {},
   "outputs": [],
   "source": [
    "# Homework3\n",
    "f = lambda x,y : x + y"
   ]
  },
  {
   "cell_type": "code",
   "execution_count": 15,
   "id": "0e0c43b7-acad-4df4-974e-5d623ecca5d1",
   "metadata": {},
   "outputs": [
    {
     "name": "stdout",
     "output_type": "stream",
     "text": [
      "3.0\n"
     ]
    }
   ],
   "source": [
    "a = 1\n",
    "b = 2.\n",
    "d =f(a,b)\n",
    "print(d)"
   ]
  },
  {
   "cell_type": "code",
   "execution_count": 16,
   "id": "3be1db2a-1d69-462d-95d3-5fe82efdf36e",
   "metadata": {},
   "outputs": [
    {
     "name": "stdout",
     "output_type": "stream",
     "text": [
      "[1, 3, 4]\n"
     ]
    }
   ],
   "source": [
    "# Homework4\n",
    "a = [1, 3, 4]\n",
    "print(a)"
   ]
  },
  {
   "cell_type": "code",
   "execution_count": 17,
   "id": "8ce535a6-157a-4582-980d-d25cc76c3c26",
   "metadata": {},
   "outputs": [
    {
     "name": "stdout",
     "output_type": "stream",
     "text": [
      "[9, 3, 4]\n"
     ]
    }
   ],
   "source": [
    "a[0] = 9\n",
    "print(a)"
   ]
  },
  {
   "cell_type": "code",
   "execution_count": 18,
   "id": "d667193a-5e67-44b5-a40b-85681d26ef8d",
   "metadata": {},
   "outputs": [
    {
     "name": "stdout",
     "output_type": "stream",
     "text": [
      "[1, 3, 'string']\n"
     ]
    }
   ],
   "source": [
    "b = [1, 3, 'string']\n",
    "print(b)"
   ]
  },
  {
   "cell_type": "code",
   "execution_count": 19,
   "id": "2f88babe-1233-485f-bf38-57325454c89f",
   "metadata": {},
   "outputs": [
    {
     "name": "stdout",
     "output_type": "stream",
     "text": [
      "[1, 3, 'string', 6.24]\n"
     ]
    }
   ],
   "source": [
    "b.append(6.24)\n",
    "print(b)"
   ]
  },
  {
   "cell_type": "code",
   "execution_count": 20,
   "id": "eb439111-ee88-4b4d-9f31-c5aa342250f5",
   "metadata": {},
   "outputs": [
    {
     "name": "stdout",
     "output_type": "stream",
     "text": [
      "['Ford', 'BMW']\n"
     ]
    }
   ],
   "source": [
    "cars = [\"Ford\", \"Volvo\", \"BMW\"]\n",
    "cars.pop(1)\n",
    "print(cars)"
   ]
  },
  {
   "cell_type": "code",
   "execution_count": 21,
   "id": "fd952b1e-1dc2-4317-8a62-97e9e6168408",
   "metadata": {},
   "outputs": [
    {
     "name": "stdout",
     "output_type": "stream",
     "text": [
      "['Ford', 'BMW']\n"
     ]
    }
   ],
   "source": [
    "cars = [\"Ford\", \"Volvo\", \"BMW\"]\n",
    "cars.remove(\"Volvo\")\n",
    "print(cars)"
   ]
  },
  {
   "cell_type": "code",
   "execution_count": 22,
   "id": "73fa3a04-44ee-49f8-8e05-ca05226dec99",
   "metadata": {},
   "outputs": [
    {
     "name": "stdout",
     "output_type": "stream",
     "text": [
      "{'A': 2.3, 'B': 'C', 5: 'D'}\n"
     ]
    }
   ],
   "source": [
    "# Homework5\n",
    "info = {'A' : 2.3, 'B' : 'C', 5 : 'D'}\n",
    "print(info)"
   ]
  },
  {
   "cell_type": "code",
   "execution_count": 23,
   "id": "f7947899-ee26-4b1c-bd79-8feaf97baac0",
   "metadata": {},
   "outputs": [
    {
     "name": "stdout",
     "output_type": "stream",
     "text": [
      "{'A': 5.2, 'B': 'C', 5: 'D'}\n"
     ]
    }
   ],
   "source": [
    "info['A'] = 5.2\n",
    "print(info)"
   ]
  },
  {
   "cell_type": "code",
   "execution_count": 24,
   "id": "b8d75b93-dd4a-493b-a5f0-b506c95ee30d",
   "metadata": {},
   "outputs": [
    {
     "name": "stdout",
     "output_type": "stream",
     "text": [
      "{'A': 5.2, 'B': 'C', 5: 'D', 'Hello': [1, 2, 3, 4, 'World.']}\n"
     ]
    }
   ],
   "source": [
    "info['Hello'] = [1, 2, 3, 4, 'World.']\n",
    "print(info)"
   ]
  },
  {
   "cell_type": "code",
   "execution_count": 25,
   "id": "8b5fb147-edba-4860-9427-a51eea7836c0",
   "metadata": {},
   "outputs": [
    {
     "name": "stdout",
     "output_type": "stream",
     "text": [
      "1 2\n",
      "3 4\n",
      "5 6\n"
     ]
    }
   ],
   "source": [
    "# Homework6\n",
    "items = [[1, 2], [3, 4], [5, 6]]\n",
    "for item in items:\n",
    "    print(item[0], item[1])"
   ]
  },
  {
   "cell_type": "code",
   "execution_count": 26,
   "id": "77165563-c6f4-4242-b177-187db9d7ac28",
   "metadata": {},
   "outputs": [
    {
     "name": "stdout",
     "output_type": "stream",
     "text": [
      "1 2\n",
      "3 4\n",
      "5 6\n"
     ]
    }
   ],
   "source": [
    "for item1, item2 in items:\n",
    "    print(item1, item2)"
   ]
  },
  {
   "cell_type": "code",
   "execution_count": 27,
   "id": "1aa677a4-55b1-4a1e-ad5b-de55fe81c1aa",
   "metadata": {},
   "outputs": [
    {
     "name": "stdout",
     "output_type": "stream",
     "text": [
      "1 2\n",
      "3 4\n",
      "5 6\n"
     ]
    }
   ],
   "source": [
    "items = [(1,2), (3,4), (5,6)]\n",
    "for item1, item2 in items:\n",
    "    print(item1, item2)"
   ]
  },
  {
   "cell_type": "code",
   "execution_count": 28,
   "id": "ddd6bfca-4f62-4e08-8a83-3b8ea78e44be",
   "metadata": {},
   "outputs": [
    {
     "name": "stdout",
     "output_type": "stream",
     "text": [
      "A 1\n",
      "B 2\n",
      "C 3\n"
     ]
    }
   ],
   "source": [
    "info = {'A' : 1, 'B' : 2, 'C' : 3}\n",
    "for key in info:\n",
    "    print(key, info[key])"
   ]
  },
  {
   "cell_type": "code",
   "execution_count": 29,
   "id": "002dc09d-225e-4e6e-b590-9391747e95b3",
   "metadata": {},
   "outputs": [
    {
     "name": "stdout",
     "output_type": "stream",
     "text": [
      "A 1\n",
      "B 2\n",
      "C 3\n"
     ]
    }
   ],
   "source": [
    "for key, value in info.items():\n",
    "    print(key, value)"
   ]
  },
  {
   "cell_type": "code",
   "execution_count": 30,
   "id": "b0680091-0ff2-4126-a806-02291eecd03b",
   "metadata": {},
   "outputs": [
    {
     "name": "stdout",
     "output_type": "stream",
     "text": [
      "[[1, 2], [3, 4], [5, 6]]\n",
      "[['A', 'B'], ['C', 'D'], ['E', 'F']]\n"
     ]
    }
   ],
   "source": [
    "# Homework6\n",
    "items1 = [[1,2], [3,4], [5,6]]\n",
    "items2 = [['A', 'B'], ['C', 'D'], ['E', 'F']]\n",
    "print(items1)\n",
    "print(items2)"
   ]
  },
  {
   "cell_type": "code",
   "execution_count": 31,
   "id": "3781b9d0-d9d2-4596-a785-cdd24375e63b",
   "metadata": {},
   "outputs": [
    {
     "name": "stdout",
     "output_type": "stream",
     "text": [
      "[1, 2] ['A', 'B']\n",
      "[3, 4] ['C', 'D']\n",
      "[5, 6] ['E', 'F']\n"
     ]
    }
   ],
   "source": [
    "for digits, characters in zip(items1, items2):\n",
    "    print(digits, characters)"
   ]
  },
  {
   "cell_type": "code",
   "execution_count": 32,
   "id": "fd6ec991-d874-4f1c-b651-a91f4befe95f",
   "metadata": {},
   "outputs": [
    {
     "name": "stdout",
     "output_type": "stream",
     "text": [
      "[0, 1, 2, 3, 4]\n"
     ]
    }
   ],
   "source": [
    "a = []\n",
    "for k in range(0,5):\n",
    "    a.append(k)\n",
    "print(a)"
   ]
  },
  {
   "cell_type": "code",
   "execution_count": 33,
   "id": "1f6764c7-b828-4571-b6dd-123d6641c935",
   "metadata": {},
   "outputs": [
    {
     "name": "stdout",
     "output_type": "stream",
     "text": [
      "[0, 1, 2, 3, 4]\n"
     ]
    }
   ],
   "source": [
    "a = [k for k in range(0,5)]\n",
    "print(a)"
   ]
  },
  {
   "cell_type": "code",
   "execution_count": 34,
   "id": "3c74f187-2e6e-4c6f-8a01-91341b3b4d72",
   "metadata": {},
   "outputs": [
    {
     "name": "stdout",
     "output_type": "stream",
     "text": [
      "[0, 2, 4]\n"
     ]
    }
   ],
   "source": [
    "a = [k for k in range(0,5) if k % 2 == 0]\n",
    "print(a)"
   ]
  },
  {
   "cell_type": "code",
   "execution_count": 35,
   "id": "5effe601-9eb5-4f71-b403-f89f49a7ef6f",
   "metadata": {},
   "outputs": [
    {
     "name": "stdout",
     "output_type": "stream",
     "text": [
      "{0: 0, 1: 10, 2: 20, 3: 30, 4: 40}\n"
     ]
    }
   ],
   "source": [
    "a = {k : k*10 for k in range(0,5)}\n",
    "print(a)"
   ]
  },
  {
   "cell_type": "code",
   "execution_count": 36,
   "id": "a04f6b79-fa81-477f-becd-161bb427b27c",
   "metadata": {},
   "outputs": [
    {
     "name": "stdout",
     "output_type": "stream",
     "text": [
      "[(0, 'apple'), (1, 'banana'), (2, 'cherry')]\n"
     ]
    }
   ],
   "source": [
    "# Homework7\n",
    "x = ('apple', 'banana', 'cherry')\n",
    "y = enumerate(x)\n",
    "\n",
    "print(list(y))"
   ]
  },
  {
   "cell_type": "code",
   "execution_count": 37,
   "id": "4324d885-2bc7-45af-b1f5-b029f1c86584",
   "metadata": {},
   "outputs": [
    {
     "name": "stdout",
     "output_type": "stream",
     "text": [
      "[1 2 3 4]\n"
     ]
    }
   ],
   "source": [
    "# Homework8\n",
    "import numpy as np\n",
    "a = np.array([1,2,3,4])\n",
    "print(a)"
   ]
  },
  {
   "cell_type": "code",
   "execution_count": 38,
   "id": "dd21e145-f5d7-48ed-96e9-fb432bffc5c5",
   "metadata": {},
   "outputs": [
    {
     "name": "stdout",
     "output_type": "stream",
     "text": [
      "[2 4 6 8]\n"
     ]
    }
   ],
   "source": [
    "print(a + a)"
   ]
  },
  {
   "cell_type": "code",
   "execution_count": 39,
   "id": "6b6e9bb6-48ea-4a82-9f6e-c21f0ce637f9",
   "metadata": {},
   "outputs": [
    {
     "name": "stdout",
     "output_type": "stream",
     "text": [
      "[2 4 6 8]\n"
     ]
    }
   ],
   "source": [
    "b = [1,2,3,4]\n",
    "print(a + b)"
   ]
  },
  {
   "cell_type": "code",
   "execution_count": 40,
   "id": "e706cfef-3765-46ba-95ab-5272760122f6",
   "metadata": {},
   "outputs": [
    {
     "name": "stdout",
     "output_type": "stream",
     "text": [
      "[[1 2]\n",
      " [3 4]]\n"
     ]
    }
   ],
   "source": [
    "a = np.array([[1,2],[3,4]])\n",
    "print(a)"
   ]
  },
  {
   "cell_type": "code",
   "execution_count": 44,
   "id": "67b22640-22d0-465a-8fc3-d5a0e28aa311",
   "metadata": {},
   "outputs": [
    {
     "name": "stdout",
     "output_type": "stream",
     "text": [
      "[[[1 2]\n",
      "  [3 4]]\n",
      "\n",
      " [[1 2]\n",
      "  [3 4]]]\n"
     ]
    }
   ],
   "source": [
    "a = np.array([[[1,2],[3,4]], [[1,2],[3,4]]])\n",
    "print(a)"
   ]
  },
  {
   "cell_type": "code",
   "execution_count": 45,
   "id": "9463e80f-8c25-4f12-8785-7a4c8e2d3175",
   "metadata": {},
   "outputs": [
    {
     "name": "stdout",
     "output_type": "stream",
     "text": [
      "[[1 2]\n",
      " [3 4]]\n"
     ]
    }
   ],
   "source": [
    "a = np.array([[1,2],[3,4]])\n",
    "print(a)"
   ]
  },
  {
   "cell_type": "code",
   "execution_count": 46,
   "id": "7dd3b869-3213-4955-b1bc-fd1b3c74c286",
   "metadata": {},
   "outputs": [
    {
     "name": "stdout",
     "output_type": "stream",
     "text": [
      "[1 2 3 4]\n",
      "[[1]\n",
      " [2]\n",
      " [3]\n",
      " [4]]\n"
     ]
    }
   ],
   "source": [
    "# Homework9\n",
    "a = np.array([1,2,3,4])\n",
    "b = np.array([[1],[2],[3],[4]])\n",
    "print(a)\n",
    "print(b)"
   ]
  },
  {
   "cell_type": "code",
   "execution_count": 47,
   "id": "9e4d9347-c6ee-43a8-9fe8-7bf3f01e2006",
   "metadata": {},
   "outputs": [
    {
     "name": "stdout",
     "output_type": "stream",
     "text": [
      "[1 2 3 4]\n",
      "(4,)\n",
      "[[1]\n",
      " [2]\n",
      " [3]\n",
      " [4]]\n",
      "(4, 1)\n"
     ]
    }
   ],
   "source": [
    "print(a)\n",
    "print(a.shape)\n",
    "print(b)\n",
    "print(b.shape)"
   ]
  },
  {
   "cell_type": "code",
   "execution_count": 51,
   "id": "991e5ca7-b5e5-4f5d-ab09-f64b203b08b4",
   "metadata": {},
   "outputs": [
    {
     "name": "stdout",
     "output_type": "stream",
     "text": [
      "[[1]\n",
      " [2]\n",
      " [3]\n",
      " [4]]\n",
      "[[1 2 3 4]]\n",
      "[[1 2 3 4]]\n",
      "(4, 1)\n",
      "(4, 1)\n"
     ]
    }
   ],
   "source": [
    "a = np.array([[1],[2],[3],[4]])\n",
    "print(a)\n",
    "print(a.T)\n",
    "print(a.T.reshape(-1,4))\n",
    "print(a.shape)\n",
    "print(a.T.reshape(-1,4).T.shape)"
   ]
  },
  {
   "cell_type": "code",
   "execution_count": 54,
   "id": "ad76b5bb-7ffc-465c-a42f-4efd33f797eb",
   "metadata": {},
   "outputs": [
    {
     "name": "stdout",
     "output_type": "stream",
     "text": [
      "[[1]\n",
      " [2]\n",
      " [3]\n",
      " [4]]\n",
      "(4,) , (4, 1)\n"
     ]
    }
   ],
   "source": [
    "a = np.array([1,2,3,4])\n",
    "b = a.reshape(4, -1)\n",
    "print(a.reshape(4, -1))\n",
    "print(a.shape, \",\",b.shape)"
   ]
  },
  {
   "cell_type": "code",
   "execution_count": 55,
   "id": "905d9c0e-be33-4efa-aa5e-e0782d5c9073",
   "metadata": {},
   "outputs": [
    {
     "name": "stdout",
     "output_type": "stream",
     "text": [
      "[[1 2]\n",
      " [3 4]\n",
      " [5 6]]\n",
      "(6,)\n",
      "[[1 2]\n",
      " [3 4]\n",
      " [5 6]]\n",
      "(6,)\n",
      "[[1 2]\n",
      " [3 4]\n",
      " [5 6]]\n",
      "(6,)\n"
     ]
    }
   ],
   "source": [
    "a = np.array([1,2,3,4,5,6])\n",
    "print(a.reshape(3,2))\n",
    "print(a.shape)\n",
    "print(a.reshape(3,-1))\n",
    "print(a.shape)\n",
    "print(a.reshape(-1,2))\n",
    "print(a.shape)"
   ]
  },
  {
   "cell_type": "code",
   "execution_count": 56,
   "id": "7b07f060-276a-45f1-aafd-adfe31ee3fa3",
   "metadata": {},
   "outputs": [
    {
     "name": "stdout",
     "output_type": "stream",
     "text": [
      "[10 20 30 40 50 60]\n",
      "[50 30 10]\n"
     ]
    }
   ],
   "source": [
    "a = np.array([10,20,30,40,50,60])\n",
    "print(a)\n",
    "b = a[[4,2,0]]\n",
    "print(b)"
   ]
  },
  {
   "cell_type": "code",
   "execution_count": 58,
   "id": "e504097d-369c-455f-b7ff-17becb7ee57d",
   "metadata": {},
   "outputs": [
    {
     "name": "stdout",
     "output_type": "stream",
     "text": [
      "[0 1 2 3 4 5]\n",
      "[3 2 4 1 5 0]\n",
      "[40 30 50 20 60 10]\n"
     ]
    }
   ],
   "source": [
    "idx = np.arange(0, len(a))\n",
    "print(idx)\n",
    "np.random.shuffle(idx)\n",
    "print(idx)\n",
    "print(a[idx])"
   ]
  },
  {
   "cell_type": "code",
   "execution_count": 59,
   "id": "fb1f34eb-7577-4ebb-93b2-c7c522a34f81",
   "metadata": {},
   "outputs": [],
   "source": [
    "# Homework10\n",
    "import numpy as np\n",
    "import matplotlib.pylab as plt\n",
    "%matplotlib inline"
   ]
  },
  {
   "cell_type": "code",
   "execution_count": 60,
   "id": "8c9eb631-0d2a-475b-884b-50adef958964",
   "metadata": {},
   "outputs": [
    {
     "name": "stdout",
     "output_type": "stream",
     "text": [
      "[-2.  -1.6 -1.2 -0.8 -0.4  0.   0.4  0.8  1.2  1.6  2. ]\n",
      "[4.   2.56 1.44 0.64 0.16 0.   0.16 0.64 1.44 2.56 4.  ]\n"
     ]
    }
   ],
   "source": [
    "x = np.linspace(-2,2,11)\n",
    "f = lambda x: x**2\n",
    "fx = f(x)\n",
    "print(x)\n",
    "print(fx)"
   ]
  },
  {
   "cell_type": "code",
   "execution_count": 61,
   "id": "0b1ad274-7211-4dff-b48b-26c363d50886",
   "metadata": {},
   "outputs": [
    {
     "data": {
      "image/png": "[encoded data removed]",
      "text/plain": [
       "<Figure size 640x480 with 1 Axes>"
      ]
     },
     "metadata": {},
     "output_type": "display_data"
    }
   ],
   "source": [
    "plt.plot(x, fx, '-o')\n",
    "plt.grid()\n",
    "plt.xlabel('x')\n",
    "plt.ylabel('y')\n",
    "plt.title('This is an example for 1d graph')\n",
    "plt.show()"
   ]
  },
  {
   "cell_type": "code",
   "execution_count": 62,
   "id": "7319b0d6-4f15-41db-a07d-a4d373ff18d1",
   "metadata": {},
   "outputs": [
    {
     "name": "stdout",
     "output_type": "stream",
     "text": [
      "[-2.  -1.6 -1.2 -0.8 -0.4  0.   0.4  0.8  1.2  1.6  2. ]\n",
      "[-2.  -1.6 -1.2 -0.8 -0.4  0.   0.4  0.8  1.2  1.6  2. ]\n"
     ]
    }
   ],
   "source": [
    "# Homework11\n",
    "x = np.linspace(-2,2,11)\n",
    "y = np.linspace(-2,2,11)\n",
    "\n",
    "print(x)\n",
    "print(y)"
   ]
  },
  {
   "cell_type": "code",
   "execution_count": 63,
   "id": "a9444285-8ef9-45c8-9034-773d315fa069",
   "metadata": {},
   "outputs": [
    {
     "name": "stdout",
     "output_type": "stream",
     "text": [
      "[[-2.  -1.6 -1.2 -0.8 -0.4  0.   0.4  0.8  1.2  1.6  2. ]\n",
      " [-2.  -1.6 -1.2 -0.8 -0.4  0.   0.4  0.8  1.2  1.6  2. ]\n",
      " [-2.  -1.6 -1.2 -0.8 -0.4  0.   0.4  0.8  1.2  1.6  2. ]\n",
      " [-2.  -1.6 -1.2 -0.8 -0.4  0.   0.4  0.8  1.2  1.6  2. ]\n",
      " [-2.  -1.6 -1.2 -0.8 -0.4  0.   0.4  0.8  1.2  1.6  2. ]\n",
      " [-2.  -1.6 -1.2 -0.8 -0.4  0.   0.4  0.8  1.2  1.6  2. ]\n",
      " [-2.  -1.6 -1.2 -0.8 -0.4  0.   0.4  0.8  1.2  1.6  2. ]\n",
      " [-2.  -1.6 -1.2 -0.8 -0.4  0.   0.4  0.8  1.2  1.6  2. ]\n",
      " [-2.  -1.6 -1.2 -0.8 -0.4  0.   0.4  0.8  1.2  1.6  2. ]\n",
      " [-2.  -1.6 -1.2 -0.8 -0.4  0.   0.4  0.8  1.2  1.6  2. ]\n",
      " [-2.  -1.6 -1.2 -0.8 -0.4  0.   0.4  0.8  1.2  1.6  2. ]]\n",
      "[[-2.  -2.  -2.  -2.  -2.  -2.  -2.  -2.  -2.  -2.  -2. ]\n",
      " [-1.6 -1.6 -1.6 -1.6 -1.6 -1.6 -1.6 -1.6 -1.6 -1.6 -1.6]\n",
      " [-1.2 -1.2 -1.2 -1.2 -1.2 -1.2 -1.2 -1.2 -1.2 -1.2 -1.2]\n",
      " [-0.8 -0.8 -0.8 -0.8 -0.8 -0.8 -0.8 -0.8 -0.8 -0.8 -0.8]\n",
      " [-0.4 -0.4 -0.4 -0.4 -0.4 -0.4 -0.4 -0.4 -0.4 -0.4 -0.4]\n",
      " [ 0.   0.   0.   0.   0.   0.   0.   0.   0.   0.   0. ]\n",
      " [ 0.4  0.4  0.4  0.4  0.4  0.4  0.4  0.4  0.4  0.4  0.4]\n",
      " [ 0.8  0.8  0.8  0.8  0.8  0.8  0.8  0.8  0.8  0.8  0.8]\n",
      " [ 1.2  1.2  1.2  1.2  1.2  1.2  1.2  1.2  1.2  1.2  1.2]\n",
      " [ 1.6  1.6  1.6  1.6  1.6  1.6  1.6  1.6  1.6  1.6  1.6]\n",
      " [ 2.   2.   2.   2.   2.   2.   2.   2.   2.   2.   2. ]]\n"
     ]
    }
   ],
   "source": [
    "x,y = np.meshgrid(x,y)\n",
    "print(x)\n",
    "print(y)"
   ]
  },
  {
   "cell_type": "code",
   "execution_count": 64,
   "id": "4d7f3c6d-2b4c-41d2-a5e2-2b1a670f679d",
   "metadata": {},
   "outputs": [],
   "source": [
    "f = lambda x,y : (x-1)**2 + (y-1)**2"
   ]
  },
  {
   "cell_type": "code",
   "execution_count": 65,
   "id": "f04c651f-7396-4561-9cbd-883e2c83d7fb",
   "metadata": {},
   "outputs": [
    {
     "name": "stdout",
     "output_type": "stream",
     "text": [
      "[[18.   15.76 13.84 12.24 10.96 10.    9.36  9.04  9.04  9.36 10.  ]\n",
      " [15.76 13.52 11.6  10.    8.72  7.76  7.12  6.8   6.8   7.12  7.76]\n",
      " [13.84 11.6   9.68  8.08  6.8   5.84  5.2   4.88  4.88  5.2   5.84]\n",
      " [12.24 10.    8.08  6.48  5.2   4.24  3.6   3.28  3.28  3.6   4.24]\n",
      " [10.96  8.72  6.8   5.2   3.92  2.96  2.32  2.    2.    2.32  2.96]\n",
      " [10.    7.76  5.84  4.24  2.96  2.    1.36  1.04  1.04  1.36  2.  ]\n",
      " [ 9.36  7.12  5.2   3.6   2.32  1.36  0.72  0.4   0.4   0.72  1.36]\n",
      " [ 9.04  6.8   4.88  3.28  2.    1.04  0.4   0.08  0.08  0.4   1.04]\n",
      " [ 9.04  6.8   4.88  3.28  2.    1.04  0.4   0.08  0.08  0.4   1.04]\n",
      " [ 9.36  7.12  5.2   3.6   2.32  1.36  0.72  0.4   0.4   0.72  1.36]\n",
      " [10.    7.76  5.84  4.24  2.96  2.    1.36  1.04  1.04  1.36  2.  ]]\n"
     ]
    }
   ],
   "source": [
    "z = f(x,y)\n",
    "print(z)"
   ]
  },
  {
   "cell_type": "code",
   "execution_count": 66,
   "id": "7742153b-e607-4e6d-adda-6233376807fb",
   "metadata": {},
   "outputs": [
    {
     "data": {
      "image/png": "[encoded data removed]",
      "text/plain": [
       "<Figure size 640x480 with 1 Axes>"
      ]
     },
     "metadata": {},
     "output_type": "display_data"
    }
   ],
   "source": [
    "from mpl_toolkits.mplot3d import Axes3D\n",
    "\n",
    "ax = plt.axes(projection='3d', elev=50, azim=50)\n",
    "ax.plot_surface(x, y, z, cmap=plt.cm.jet)\n",
    "\n",
    "ax.set_xlabel('$x$')\n",
    "ax.set_ylabel('$y$')\n",
    "ax.set_zlabel('$z$')\n",
    "\n",
    "plt.show()"
   ]
  },
  {
   "cell_type": "code",
   "execution_count": 67,
   "id": "09be4c0e-58f5-4d7d-8e77-aa59a8afd2fe",
   "metadata": {
    "scrolled": true
   },
   "outputs": [
    {
     "data": {
      "image/png": "[encoded data removed]",
      "text/plain": [
       "<Figure size 640x480 with 1 Axes>"
      ]
     },
     "metadata": {},
     "output_type": "display_data"
    }
   ],
   "source": [
    "ax = plt.axes()\n",
    "ax.contour(x, y, z, levels=np.linspace(0,20,20))\n",
    "ax.grid()\n",
    "ax.axis('equal')\n",
    "ax.set_xlabel('$x$')\n",
    "ax.set_ylabel('$y$')\n",
    "plt.show()"
   ]
  },
  {
   "cell_type": "code",
   "execution_count": 1,
   "id": "a1b87ec3-1c4c-4467-80ad-8f026662a3a8",
   "metadata": {},
   "outputs": [],
   "source": [
    "import numpy as np"
   ]
  },
  {
   "cell_type": "code",
   "execution_count": 9,
   "id": "026ee481-dfe4-428a-8745-1b5c1f31cf99",
   "metadata": {},
   "outputs": [
    {
     "name": "stdout",
     "output_type": "stream",
     "text": [
      "[[1 4 2 0]\n",
      " [9 5 0 0]\n",
      " [4 0 2 4]\n",
      " [6 1 8 3]]\n",
      "[[1]\n",
      " [2]\n",
      " [3]\n",
      " [4]]\n"
     ]
    }
   ],
   "source": [
    "A = np.matrix('\\\n",
    "1, 4, 2, 0; \\\n",
    "9, 5, 0, 0; \\\n",
    "4, 0, 2, 4; \\\n",
    "6, 1, 8, 3')\n",
    "x = np.matrix('1;2;3;4')\n",
    "print(A)\n",
    "print(x)"
   ]
  },
  {
   "cell_type": "code",
   "execution_count": 11,
   "id": "e243e95a-53ba-40fa-9821-a4b68c765e05",
   "metadata": {},
   "outputs": [
    {
     "name": "stdout",
     "output_type": "stream",
     "text": [
      "A*x= [[15]\n",
      " [19]\n",
      " [26]\n",
      " [44]]\n"
     ]
    }
   ],
   "source": [
    "b = A*x\n",
    "print(\"A*x=\",b)"
   ]
  },
  {
   "cell_type": "code",
   "execution_count": 20,
   "id": "414fbac8-a311-479c-a9d4-8e78c9fb4622",
   "metadata": {},
   "outputs": [
    {
     "name": "stdout",
     "output_type": "stream",
     "text": [
      "A*x= [[15]\n",
      " [19]\n",
      " [26]\n",
      " [44]]\n"
     ]
    }
   ],
   "source": [
    "A = np.matrix([\\\n",
    "             [1, 4, 2, 0],\\\n",
    "             [9, 5, 0, 0],\\\n",
    "             [4, 0, 2, 4],\\\n",
    "             [6, 1, 8, 3]])\n",
    "x = np.matrix([1,2,3,4]).reshape(-1, 1)\n",
    "b = A*x\n",
    "print(\"A*x=\", b)"
   ]
  },
  {
   "cell_type": "code",
   "execution_count": 19,
   "id": "1e88963f-2c2e-4cc2-858d-7eebc7ffb16d",
   "metadata": {},
   "outputs": [
    {
     "name": "stdout",
     "output_type": "stream",
     "text": [
      "B*x= [[24]\n",
      " [32]\n",
      " [30]]\n"
     ]
    }
   ],
   "source": [
    "B = np.matrix([\\\n",
    "             [4, 5, 2, 1],\\\n",
    "             [2, 3, 8, 0],\\\n",
    "             [1, 0, 7, 2]])\n",
    "x = np.matrix([1, 2, 3, 4]).reshape(-1, 1)\n",
    "print(\"B*x=\",B*x)"
   ]
  },
  {
   "cell_type": "code",
   "execution_count": 21,
   "id": "b2687c9f-ca16-4126-ada7-e341fbdc440d",
   "metadata": {},
   "outputs": [],
   "source": [
    "# Homework 13\n",
    "import numpy as np\n",
    "import matplotlib.pyplot as plt\n",
    "from scipy import stats"
   ]
  },
  {
   "cell_type": "code",
   "execution_count": 22,
   "id": "bc573b6b-86b1-496e-92d5-d3e030133a85",
   "metadata": {},
   "outputs": [],
   "source": [
    "x = [5,7,8,7,2,17,2,9,4,11,12,9,6]\n",
    "y = [99,86,87,88,111,86,103,87,94,78,77,85,86]"
   ]
  },
  {
   "cell_type": "code",
   "execution_count": 23,
   "id": "a34883cc-01b9-450e-8c36-b80e8e3cfd73",
   "metadata": {},
   "outputs": [],
   "source": [
    "slope, intercept, r, p, std_err = stats.linregress(x,y)"
   ]
  },
  {
   "cell_type": "code",
   "execution_count": 24,
   "id": "dc9a0d02-6334-4282-b491-ea8e0ce9dc38",
   "metadata": {},
   "outputs": [],
   "source": [
    "def myfunc(x):\n",
    "    return slope * x + intercept"
   ]
  },
  {
   "cell_type": "code",
   "execution_count": 25,
   "id": "870daaae-5ad4-4411-ba78-5601b543cc9a",
   "metadata": {},
   "outputs": [],
   "source": [
    "xx=np.linspace(0, 18, 180)\n",
    "yy=slope * xx + intercept"
   ]
  },
  {
   "cell_type": "code",
   "execution_count": 26,
   "id": "871c0e7b-433e-4979-96d7-5df68ee72e00",
   "metadata": {},
   "outputs": [
    {
     "data": {
      "image/png": "[encoded data removed]",
      "text/plain": [
       "<Figure size 640x480 with 1 Axes>"
      ]
     },
     "metadata": {},
     "output_type": "display_data"
    }
   ],
   "source": [
    "plt.scatter(x,y)\n",
    "plt.plot(xx,yy)\n",
    "plt.show()"
   ]
  },
  {
   "cell_type": "code",
   "execution_count": null,
   "id": "9c17c12b-83c6-4626-8fb2-424131f33e92",
   "metadata": {},
   "outputs": [],
   "source": []
  }
 ],
 "metadata": {
  "kernelspec": {
   "display_name": "Python 3 (ipykernel)",
   "language": "python",
   "name": "python3"
  },
  "language_info": {
   "codemirror_mode": {
    "name": "ipython",
    "version": 3
   },
   "file_extension": ".py",
   "mimetype": "text/x-python",
   "name": "python",
   "nbconvert_exporter": "python",
   "pygments_lexer": "ipython3",
   "version": "3.10.12"
  }
 },
 "nbformat": 4,
 "nbformat_minor": 5
}
