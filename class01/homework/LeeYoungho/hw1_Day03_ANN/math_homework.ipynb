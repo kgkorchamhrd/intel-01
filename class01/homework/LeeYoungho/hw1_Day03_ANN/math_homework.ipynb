{
 "cells": [
  {
   "cell_type": "code",
   "execution_count": null,
   "id": "99aa9c9f-e896-49ab-bba5-aff8b5879a7e",
   "metadata": {},
   "outputs": [],
   "source": [
    "###### test1"
   ]
  },
  {
   "cell_type": "code",
   "execution_count": 2,
   "id": "6601aee3-987c-412e-9421-37f63a5e731f",
   "metadata": {},
   "outputs": [
    {
     "name": "stdout",
     "output_type": "stream",
     "text": [
      "1\n",
      "2.0\n",
      "String\n",
      "<class 'int'>\n",
      "<class 'float'>\n",
      "<class 'str'>\n"
     ]
    }
   ],
   "source": [
    "a = 1\n",
    "b = 2.\n",
    "c = \"String\"\n",
    "\n",
    "print(a)\n",
    "print(b)\n",
    "print(c)\n",
    "\n",
    "print(type(a))\n",
    "print(type(b))\n",
    "print(type(c))"
   ]
  },
  {
   "cell_type": "code",
   "execution_count": null,
   "id": "3ed4bbdc-085f-4ead-a559-64091ec5d028",
   "metadata": {},
   "outputs": [],
   "source": [
    "###### test2"
   ]
  },
  {
   "cell_type": "code",
   "execution_count": 5,
   "id": "d530d8e9-3475-4991-b147-f6a2e2ef8fcb",
   "metadata": {},
   "outputs": [
    {
     "name": "stdout",
     "output_type": "stream",
     "text": [
      "3.0\n"
     ]
    }
   ],
   "source": [
    "def f(x,y):\n",
    "    val = x + y\n",
    "    return val\n",
    "\n",
    "a=1\n",
    "b=2.\n",
    "d=f(a,b)\n",
    "print(d)"
   ]
  },
  {
   "cell_type": "code",
   "execution_count": null,
   "id": "f818ecad-bc07-4162-949a-eb4ec6b286e0",
   "metadata": {},
   "outputs": [],
   "source": [
    "###### test3"
   ]
  },
  {
   "cell_type": "code",
   "execution_count": 6,
   "id": "f5817b3e-3b22-4913-af5f-9bad06d1b6ad",
   "metadata": {},
   "outputs": [
    {
     "name": "stdout",
     "output_type": "stream",
     "text": [
      "3.0\n"
     ]
    }
   ],
   "source": [
    "f = lambda x,y : x+y\n",
    "\n",
    "a=1\n",
    "b=2.\n",
    "d=f(a,b)\n",
    "print(d)"
   ]
  },
  {
   "cell_type": "code",
   "execution_count": null,
   "id": "908fc52f-6348-48b3-a3cd-097942beea1a",
   "metadata": {},
   "outputs": [],
   "source": [
    "###### test4"
   ]
  },
  {
   "cell_type": "code",
   "execution_count": 8,
   "id": "d6d833a1-18ab-4b83-a876-6861c686de7c",
   "metadata": {},
   "outputs": [
    {
     "name": "stdout",
     "output_type": "stream",
     "text": [
      "[1, 3, 4]\n",
      "[9, 3, 4]\n",
      "[1, 3, 'string']\n",
      "[1, 3, 'string', 6.24]\n"
     ]
    }
   ],
   "source": [
    "a=[1,3,4]\n",
    "print(a)\n",
    "\n",
    "a[0]=9\n",
    "print(a)\n",
    "\n",
    "b=[1,3,\"string\"]\n",
    "print(b)\n",
    "\n",
    "b.append(6.24)\n",
    "print(b)"
   ]
  },
  {
   "cell_type": "code",
   "execution_count": null,
   "id": "95d7295b-166c-4c53-b797-791b15306dee",
   "metadata": {},
   "outputs": [],
   "source": [
    "###### test5"
   ]
  },
  {
   "cell_type": "code",
   "execution_count": 9,
   "id": "875b6960-3ec8-4db1-9599-ac312bd49e55",
   "metadata": {},
   "outputs": [
    {
     "name": "stdout",
     "output_type": "stream",
     "text": [
      "{'A': 2.3, 'B': 'C', 5: 'D'}\n",
      "{'A': 5.2, 'B': 'C', 5: 'D'}\n",
      "{'A': 5.2, 'B': 'C', 5: 'D', 'Hello': [1, 2, 3, 4, 'World.']}\n"
     ]
    }
   ],
   "source": [
    "info = {'A':2.3, 'B':'C', 5:'D'}\n",
    "print(info)\n",
    "\n",
    "info['A']=5.2\n",
    "print(info)\n",
    "\n",
    "info[\"Hello\"] = [1,2,3,4,\"World.\"]\n",
    "print(info)"
   ]
  },
  {
   "cell_type": "code",
   "execution_count": null,
   "id": "d80d282f-b0b8-4810-a320-39362e835d63",
   "metadata": {},
   "outputs": [],
   "source": [
    "###### test6"
   ]
  },
  {
   "cell_type": "code",
   "execution_count": 14,
   "id": "b082ad5c-b4e5-4fca-b131-99532acd45a5",
   "metadata": {},
   "outputs": [
    {
     "name": "stdout",
     "output_type": "stream",
     "text": [
      "1 2\n",
      "3 4\n",
      "5 6\n"
     ]
    }
   ],
   "source": [
    "items = [[1,2],[3,4],[5,6]]\n",
    "for item in items:\n",
    "    print(item[0], item[1])"
   ]
  },
  {
   "cell_type": "code",
   "execution_count": 15,
   "id": "c36a2e0e-d62d-4849-9e4b-8435afc2bae3",
   "metadata": {},
   "outputs": [
    {
     "name": "stdout",
     "output_type": "stream",
     "text": [
      "1 2\n",
      "3 4\n",
      "5 6\n"
     ]
    }
   ],
   "source": [
    "for item1, item2 in items:\n",
    "    print(item1, item2)"
   ]
  },
  {
   "cell_type": "code",
   "execution_count": 16,
   "id": "61ea41e2-d66e-4fd5-90e6-a498edbf04c3",
   "metadata": {},
   "outputs": [
    {
     "name": "stdout",
     "output_type": "stream",
     "text": [
      "1 2\n",
      "3 4\n",
      "5 6\n"
     ]
    }
   ],
   "source": [
    "items = [(1,2),(3,4),(5,6)]\n",
    "for item1, item2 in items:\n",
    "    print(item1, item2)\n"
   ]
  },
  {
   "cell_type": "code",
   "execution_count": 17,
   "id": "2f9411cc-9a8b-49ac-9751-eea24a22bfe0",
   "metadata": {},
   "outputs": [
    {
     "name": "stdout",
     "output_type": "stream",
     "text": [
      "A 1\n",
      "B 2\n",
      "C 3\n"
     ]
    }
   ],
   "source": [
    "info = {'A':1, 'B':2, 'C':3}\n",
    "for key in info:\n",
    "    print(key, info[key])"
   ]
  },
  {
   "cell_type": "code",
   "execution_count": null,
   "id": "a8a18a3e-6c29-4adf-a4a0-72137133e477",
   "metadata": {},
   "outputs": [],
   "source": [
    "###### test6_2"
   ]
  },
  {
   "cell_type": "code",
   "execution_count": 18,
   "id": "4e357582-f03f-47fa-ad26-e2863bf21d48",
   "metadata": {},
   "outputs": [
    {
     "name": "stdout",
     "output_type": "stream",
     "text": [
      "[[1, 2], [3, 4], [5, 6]]\n",
      "[['A', 'B'], ['C', 'D'], ['E', 'F']]\n"
     ]
    }
   ],
   "source": [
    "items1 = [[1,2],[3,4],[5,6]]\n",
    "items2 = [['A','B'],['C','D'],['E','F']]\n",
    "print(items1)\n",
    "print(items2)"
   ]
  },
  {
   "cell_type": "code",
   "execution_count": 19,
   "id": "f5d22f1b-ef7c-40ce-a3f7-28328bb7b6c7",
   "metadata": {},
   "outputs": [
    {
     "name": "stdout",
     "output_type": "stream",
     "text": [
      "[1, 2] ['A', 'B']\n",
      "[3, 4] ['C', 'D']\n",
      "[5, 6] ['E', 'F']\n"
     ]
    }
   ],
   "source": [
    "for digits, characters in zip(items1, items2):\n",
    "    print(digits, characters)"
   ]
  },
  {
   "cell_type": "code",
   "execution_count": 20,
   "id": "d1021f92-fb10-4d39-bb26-1784ef72d0f7",
   "metadata": {},
   "outputs": [
    {
     "name": "stdout",
     "output_type": "stream",
     "text": [
      "[0, 1, 2, 3, 4]\n"
     ]
    }
   ],
   "source": [
    "a = []\n",
    "for k in range(0,5):\n",
    "    a.append(k)\n",
    "print(a)"
   ]
  },
  {
   "cell_type": "code",
   "execution_count": 21,
   "id": "53d5b6a5-14f9-4aed-a58e-c3cdc8fd2800",
   "metadata": {},
   "outputs": [
    {
     "name": "stdout",
     "output_type": "stream",
     "text": [
      "[0, 1, 2, 3, 4]\n"
     ]
    }
   ],
   "source": [
    "a = [k for k in range(5)]\n",
    "print(a)"
   ]
  },
  {
   "cell_type": "code",
   "execution_count": 23,
   "id": "9faff64e-1f9b-4ab8-99cd-71f4d915a2fb",
   "metadata": {},
   "outputs": [
    {
     "name": "stdout",
     "output_type": "stream",
     "text": [
      "[0, 2, 4]\n"
     ]
    }
   ],
   "source": [
    "a = [k for k in range(5) if k % 2 ==0]\n",
    "print(a)"
   ]
  },
  {
   "cell_type": "code",
   "execution_count": 24,
   "id": "64d11e22-83dd-4a23-ae01-729fb0278739",
   "metadata": {},
   "outputs": [
    {
     "name": "stdout",
     "output_type": "stream",
     "text": [
      "{0, 1, 2, 3, 4}\n"
     ]
    }
   ],
   "source": [
    "a = {k for k in range(5)}\n",
    "print(a)"
   ]
  },
  {
   "cell_type": "code",
   "execution_count": 25,
   "id": "7a02d4de-cc23-4a3a-a2d1-d683f1c1d6b0",
   "metadata": {},
   "outputs": [],
   "source": [
    "###### test7"
   ]
  },
  {
   "cell_type": "code",
   "execution_count": 26,
   "id": "43b4debf-3ffb-471f-bb4a-c202229b7dae",
   "metadata": {},
   "outputs": [
    {
     "name": "stdout",
     "output_type": "stream",
     "text": [
      "[(0, 'apple'), (1, 'banana'), (2, 'cherry')]\n"
     ]
    }
   ],
   "source": [
    "x = (\"apple\", \"banana\", \"cherry\")\n",
    "y = enumerate(x)\n",
    "\n",
    "print(list(y))"
   ]
  },
  {
   "cell_type": "code",
   "execution_count": 27,
   "id": "0e4cc318-0acd-4b27-b998-4a58175267c4",
   "metadata": {},
   "outputs": [],
   "source": [
    "###### test8"
   ]
  },
  {
   "cell_type": "code",
   "execution_count": 2,
   "id": "956e49c8-1e39-4654-b866-eb14aa186595",
   "metadata": {},
   "outputs": [
    {
     "name": "stdout",
     "output_type": "stream",
     "text": [
      "[1 2 3 4]\n"
     ]
    }
   ],
   "source": [
    "import numpy as np\n",
    "a = np.array([1,2,3,4])\n",
    "print(a)"
   ]
  },
  {
   "cell_type": "code",
   "execution_count": 30,
   "id": "62aaec75-bc73-48ed-996c-4a0e261ea26c",
   "metadata": {},
   "outputs": [
    {
     "name": "stdout",
     "output_type": "stream",
     "text": [
      "[2 4 6 8]\n"
     ]
    }
   ],
   "source": [
    "print(a+a)"
   ]
  },
  {
   "cell_type": "code",
   "execution_count": 31,
   "id": "58263cf4-8caf-4d1d-84fd-5435718c2824",
   "metadata": {},
   "outputs": [
    {
     "name": "stdout",
     "output_type": "stream",
     "text": [
      "[1, 2, 3, 4, 1, 2, 3, 4]\n"
     ]
    }
   ],
   "source": [
    "b = [1,2,3,4]\n",
    "print(b+b)"
   ]
  },
  {
   "cell_type": "code",
   "execution_count": 32,
   "id": "df49b0a0-beb3-4966-9092-ee029e41cb5b",
   "metadata": {},
   "outputs": [],
   "source": [
    "###### test8_2"
   ]
  },
  {
   "cell_type": "code",
   "execution_count": 34,
   "id": "2d088405-bbb3-4ab8-900c-1cb6e25eb51e",
   "metadata": {},
   "outputs": [
    {
     "name": "stdout",
     "output_type": "stream",
     "text": [
      "[[1 2]\n",
      " [3 4]]\n"
     ]
    }
   ],
   "source": [
    "a = np.array([[1,2],[3,4]])\n",
    "print(a)"
   ]
  },
  {
   "cell_type": "code",
   "execution_count": 35,
   "id": "8e84a1b1-18b6-4743-96d9-29f7ae6ac4dd",
   "metadata": {},
   "outputs": [
    {
     "name": "stdout",
     "output_type": "stream",
     "text": [
      "[[[1 2]\n",
      "  [3 4]]\n",
      "\n",
      " [[1 2]\n",
      "  [3 4]]]\n"
     ]
    }
   ],
   "source": [
    "a = np.array([[[1,2],[3,4]], [[1,2],[3,4]]])\n",
    "print(a)"
   ]
  },
  {
   "cell_type": "code",
   "execution_count": 36,
   "id": "4e5bdba8-1b21-40d3-bae9-f422f52032e3",
   "metadata": {},
   "outputs": [
    {
     "name": "stdout",
     "output_type": "stream",
     "text": [
      "[[1 2]\n",
      " [3 4]]\n"
     ]
    }
   ],
   "source": [
    "a = np.array([[1,2],[3,4]])\n",
    "print(a)"
   ]
  },
  {
   "cell_type": "code",
   "execution_count": 37,
   "id": "f660c4b5-49a2-4996-8a98-5722a8819777",
   "metadata": {},
   "outputs": [],
   "source": [
    "###### test9"
   ]
  },
  {
   "cell_type": "code",
   "execution_count": 38,
   "id": "18e6d7f2-8b43-4c54-8065-3226d99c7024",
   "metadata": {},
   "outputs": [
    {
     "name": "stdout",
     "output_type": "stream",
     "text": [
      "[1 2 3 4]\n",
      "[[1]\n",
      " [2]\n",
      " [3]\n",
      " [4]]\n"
     ]
    }
   ],
   "source": [
    "a = np.array([1,2,3,4])\n",
    "b = np.array([[1],[2],[3],[4]])\n",
    "print(a)\n",
    "print(b)"
   ]
  },
  {
   "cell_type": "code",
   "execution_count": 41,
   "id": "df8074cd-9236-4f98-856f-ab0e2b56dcee",
   "metadata": {},
   "outputs": [
    {
     "name": "stdout",
     "output_type": "stream",
     "text": [
      "[1 2 3 4]\n",
      "(4,)\n",
      "[[1]\n",
      " [2]\n",
      " [3]\n",
      " [4]]\n",
      "(4, 1)\n"
     ]
    }
   ],
   "source": [
    "print(a)\n",
    "print(a.shape)\n",
    "print(b)\n",
    "print(b.shape)"
   ]
  },
  {
   "cell_type": "code",
   "execution_count": 42,
   "id": "b4a288fc-9957-48f6-8fa6-fa33da777989",
   "metadata": {},
   "outputs": [],
   "source": [
    "###### test9"
   ]
  },
  {
   "cell_type": "code",
   "execution_count": 5,
   "id": "79b6eddf-4556-4ce6-8629-37f078dee677",
   "metadata": {},
   "outputs": [
    {
     "name": "stdout",
     "output_type": "stream",
     "text": [
      "[[1]\n",
      " [2]\n",
      " [3]\n",
      " [4]]\n",
      "[[1 2 3 4]]\n",
      "[[1 2 3 4]]\n",
      "(4, 1)\n",
      "(4, 1)\n"
     ]
    }
   ],
   "source": [
    "a = np.array([[1],[2],[3],[4]])\n",
    "print(a)\n",
    "print(a.T)\n",
    "print(a.T.reshape(-1,4))\n",
    "print(a.shape)\n",
    "print(a.T.reshape(-1,4).T.shape)"
   ]
  },
  {
   "cell_type": "code",
   "execution_count": 47,
   "id": "87b9acb6-3726-48f1-bac6-0ead39ed4f17",
   "metadata": {},
   "outputs": [
    {
     "name": "stdout",
     "output_type": "stream",
     "text": [
      "[[1]\n",
      " [2]\n",
      " [3]\n",
      " [4]]\n",
      "(4,) , (4, 1)\n"
     ]
    }
   ],
   "source": [
    "a = np.array([1,2,3,4])\n",
    "b = a.reshape(4,-1)\n",
    "print(a.reshape(4,-1))\n",
    "print(a.shape, \",\", b.shape)"
   ]
  },
  {
   "cell_type": "code",
   "execution_count": 48,
   "id": "38bb228c-1a0f-4918-bf7d-56abe1ca55fa",
   "metadata": {},
   "outputs": [],
   "source": [
    "###### test9_2"
   ]
  },
  {
   "cell_type": "code",
   "execution_count": 7,
   "id": "55fa6ea0-d9f6-487a-942f-d66e4e6f669f",
   "metadata": {},
   "outputs": [
    {
     "name": "stdout",
     "output_type": "stream",
     "text": [
      "[[1 2]\n",
      " [3 4]\n",
      " [5 6]]\n",
      "(6,)\n",
      "[[1 2]\n",
      " [3 4]\n",
      " [5 6]]\n",
      "(6,)\n",
      "[[1 2]\n",
      " [3 4]\n",
      " [5 6]]\n",
      "(6,)\n"
     ]
    }
   ],
   "source": [
    "a = np.array([1,2,3,4,5,6])\n",
    "print(a.reshape(3,2))\n",
    "print(a.shape)\n",
    "print(a.reshape(3,-1))\n",
    "print(a.shape)\n",
    "print(a.reshape(-1,2))\n",
    "print(a.shape)"
   ]
  },
  {
   "cell_type": "code",
   "execution_count": 8,
   "id": "a1ef4284-ceba-4cab-a9af-85618b0ff361",
   "metadata": {},
   "outputs": [
    {
     "name": "stdout",
     "output_type": "stream",
     "text": [
      "[10 20 30 40 50 60]\n",
      "[50 30 10]\n"
     ]
    }
   ],
   "source": [
    "a = np.array([10,20,30,40,50,60])\n",
    "print(a)\n",
    "b=a[[4,2,0]]\n",
    "print(b)"
   ]
  },
  {
   "cell_type": "code",
   "execution_count": 9,
   "id": "c1986d4b-d4a1-40c2-b9db-2a1efc708fcb",
   "metadata": {},
   "outputs": [
    {
     "name": "stdout",
     "output_type": "stream",
     "text": [
      "[0 1 2 3 4 5]\n",
      "[0 3 5 4 2 1]\n",
      "[10 40 60 50 30 20]\n"
     ]
    }
   ],
   "source": [
    "idx = np.arange(0,len(a))\n",
    "print(idx)\n",
    "np.random.shuffle(idx)\n",
    "print(idx)\n",
    "print(a[idx])"
   ]
  },
  {
   "cell_type": "code",
   "execution_count": 10,
   "id": "2445c23a-25eb-4306-a6b0-e8fbd5a328f2",
   "metadata": {},
   "outputs": [],
   "source": [
    "###### test10"
   ]
  },
  {
   "cell_type": "code",
   "execution_count": 16,
   "id": "35e02dc7-7f0c-4792-8579-3bf7972d38a0",
   "metadata": {},
   "outputs": [],
   "source": [
    "import numpy as np\n",
    "import matplotlib.pylab as plt\n",
    "%matplotlib inline"
   ]
  },
  {
   "cell_type": "code",
   "execution_count": 12,
   "id": "8f9a6e66-1904-4c73-bf36-8831a64b52aa",
   "metadata": {},
   "outputs": [],
   "source": [
    "x = np.linspace(-2,2,11)\n",
    "f=lambda x: x **2\n",
    "fx=f(x)"
   ]
  },
  {
   "cell_type": "code",
   "execution_count": 13,
   "id": "c4791d01-0589-4927-9bea-4b0567244389",
   "metadata": {},
   "outputs": [
    {
     "name": "stdout",
     "output_type": "stream",
     "text": [
      "[-2.  -1.6 -1.2 -0.8 -0.4  0.   0.4  0.8  1.2  1.6  2. ]\n",
      "[4.   2.56 1.44 0.64 0.16 0.   0.16 0.64 1.44 2.56 4.  ]\n"
     ]
    }
   ],
   "source": [
    "print(x)\n",
    "print(fx)"
   ]
  },
  {
   "cell_type": "code",
   "execution_count": 17,
   "id": "d0a232dc-a8c2-4983-8131-76c70034db5b",
   "metadata": {},
   "outputs": [],
   "source": [
    "###### test10_2"
   ]
  },
  {
   "cell_type": "code",
   "execution_count": 18,
   "id": "1b42613e-bce5-4790-9ad2-f4cfc28aaa57",
   "metadata": {},
   "outputs": [
    {
     "data": {
      "image/png": "[encoded data removed]",
      "text/plain": [
       "<Figure size 640x480 with 1 Axes>"
      ]
     },
     "metadata": {},
     "output_type": "display_data"
    }
   ],
   "source": [
    "plt.plot(x,fx,'-o')\n",
    "plt.grid()\n",
    "plt.xlabel('x')\n",
    "plt.ylabel('y')\n",
    "plt.title('This is an example for 1d graph')\n",
    "plt.show()"
   ]
  },
  {
   "cell_type": "code",
   "execution_count": 19,
   "id": "c9f21bc3-809b-4f9d-af92-4135b7dce238",
   "metadata": {},
   "outputs": [],
   "source": [
    "###### test11"
   ]
  },
  {
   "cell_type": "code",
   "execution_count": 20,
   "id": "498679f3-f072-466b-9f46-66b98302be69",
   "metadata": {},
   "outputs": [
    {
     "name": "stdout",
     "output_type": "stream",
     "text": [
      "[-2.  -1.6 -1.2 -0.8 -0.4  0.   0.4  0.8  1.2  1.6  2. ]\n",
      "[-2.  -1.6 -1.2 -0.8 -0.4  0.   0.4  0.8  1.2  1.6  2. ]\n"
     ]
    }
   ],
   "source": [
    "x = np.linspace(-2,2,11)\n",
    "y = np.linspace(-2,2,11)\n",
    "\n",
    "print(x)\n",
    "print(y)"
   ]
  },
  {
   "cell_type": "code",
   "execution_count": 23,
   "id": "fd1cbc3c-9b74-4519-b831-82a31a987095",
   "metadata": {},
   "outputs": [
    {
     "name": "stdout",
     "output_type": "stream",
     "text": [
      "[[-2.  -1.6 -1.2 ...  1.2  1.6  2. ]\n",
      " [-2.  -1.6 -1.2 ...  1.2  1.6  2. ]\n",
      " [-2.  -1.6 -1.2 ...  1.2  1.6  2. ]\n",
      " ...\n",
      " [-2.  -1.6 -1.2 ...  1.2  1.6  2. ]\n",
      " [-2.  -1.6 -1.2 ...  1.2  1.6  2. ]\n",
      " [-2.  -1.6 -1.2 ...  1.2  1.6  2. ]]\n",
      "[[-2. -2. -2. ... -2. -2. -2.]\n",
      " [-2. -2. -2. ... -2. -2. -2.]\n",
      " [-2. -2. -2. ... -2. -2. -2.]\n",
      " ...\n",
      " [ 2.  2.  2. ...  2.  2.  2.]\n",
      " [ 2.  2.  2. ...  2.  2.  2.]\n",
      " [ 2.  2.  2. ...  2.  2.  2.]]\n"
     ]
    }
   ],
   "source": [
    "x, y = np.meshgrid(x,y)\n",
    "print(x)\n",
    "print(y)"
   ]
  },
  {
   "cell_type": "code",
   "execution_count": 24,
   "id": "d1f8c483-1e48-4ab0-8835-415fee2105a0",
   "metadata": {},
   "outputs": [],
   "source": [
    "###### test11_2"
   ]
  },
  {
   "cell_type": "code",
   "execution_count": 32,
   "id": "7a8399f7-1009-4ec4-990d-c15af607b1b4",
   "metadata": {},
   "outputs": [],
   "source": [
    "f = lambda x,y : (x-1)**2 + (y-1)**2"
   ]
  },
  {
   "cell_type": "code",
   "execution_count": 33,
   "id": "9fdd83d1-54e0-457e-974a-851bc61916ca",
   "metadata": {},
   "outputs": [
    {
     "name": "stdout",
     "output_type": "stream",
     "text": [
      "[[18.   15.76 13.84 ...  9.04  9.36 10.  ]\n",
      " [18.   15.76 13.84 ...  9.04  9.36 10.  ]\n",
      " [18.   15.76 13.84 ...  9.04  9.36 10.  ]\n",
      " ...\n",
      " [10.    7.76  5.84 ...  1.04  1.36  2.  ]\n",
      " [10.    7.76  5.84 ...  1.04  1.36  2.  ]\n",
      " [10.    7.76  5.84 ...  1.04  1.36  2.  ]]\n"
     ]
    }
   ],
   "source": [
    "z = f(x,y)\n",
    "print(z)"
   ]
  },
  {
   "cell_type": "code",
   "execution_count": 31,
   "id": "5473f2e6-f58a-4ffe-8ae2-59281d85fcc6",
   "metadata": {},
   "outputs": [
    {
     "data": {
      "image/png": "[encoded data removed]",
      "text/plain": [
       "<Figure size 640x480 with 1 Axes>"
      ]
     },
     "metadata": {},
     "output_type": "display_data"
    }
   ],
   "source": [
    "from mpl_toolkits.mplot3d import Axes3D\n",
    "\n",
    "ax = plt.axes(projection='3d', elev=50, azim=-50)\n",
    "ax.plot_surface(x,y,z,cmap=plt.cm.jet)\n",
    "\n",
    "ax.set_xlabel('$x$')\n",
    "ax.set_ylabel('$y$')\n",
    "ax.set_zlabel('$z$')\n",
    "\n",
    "plt.show()"
   ]
  },
  {
   "cell_type": "code",
   "execution_count": 30,
   "id": "4aee1eec-d107-41d2-a7a4-3cb742a9728e",
   "metadata": {},
   "outputs": [],
   "source": [
    "###### test11_3"
   ]
  },
  {
   "cell_type": "code",
   "execution_count": 34,
   "id": "0d438e18-d451-40b9-9982-3b9246a6ea78",
   "metadata": {},
   "outputs": [
    {
     "data": {
      "image/png": "[encoded data removed]",
      "text/plain": [
       "<Figure size 640x480 with 1 Axes>"
      ]
     },
     "metadata": {},
     "output_type": "display_data"
    }
   ],
   "source": [
    "ax = plt.axes()\n",
    "ax.contour(x,y,z,levels=np.linspace(0,20,20), cmap=plt.cm.jet)\n",
    "ax.grid()\n",
    "ax.axis('equal')\n",
    "ax.set_xlabel('$x$')\n",
    "ax.set_ylabel('$y$')\n",
    "plt.show()"
   ]
  },
  {
   "cell_type": "code",
   "execution_count": 35,
   "id": "b1d1f8cf-5f7d-4ce8-9fc8-fa1f8cc8103b",
   "metadata": {},
   "outputs": [],
   "source": [
    "###### test12"
   ]
  },
  {
   "cell_type": "code",
   "execution_count": 38,
   "id": "743e6171-7964-4eed-8e44-ef12a7fff69f",
   "metadata": {},
   "outputs": [
    {
     "name": "stdout",
     "output_type": "stream",
     "text": [
      "[[1 4 2 0]\n",
      " [9 5 0 0]\n",
      " [4 0 2 4]\n",
      " [6 1 8 3]]\n",
      "[[1]\n",
      " [2]\n",
      " [3]\n",
      " [4]]\n"
     ]
    }
   ],
   "source": [
    "A = np.matrix('1,4,2,0; 9,5,0,0; 4,0,2,4; 6,1,8,3')\n",
    "x = np.matrix('1;2;3;4')\n",
    "print(A)\n",
    "print(x)"
   ]
  },
  {
   "cell_type": "code",
   "execution_count": 41,
   "id": "30341b2e-cb30-4724-9bdd-86fe1a1e2b98",
   "metadata": {},
   "outputs": [
    {
     "name": "stdout",
     "output_type": "stream",
     "text": [
      "A*x= [[15]\n",
      " [19]\n",
      " [26]\n",
      " [44]]\n"
     ]
    }
   ],
   "source": [
    "b = A*x\n",
    "print(\"A*x=\", b)"
   ]
  },
  {
   "cell_type": "code",
   "execution_count": 55,
   "id": "9a604a91-7b7c-43ac-8a01-34d50c444732",
   "metadata": {},
   "outputs": [],
   "source": [
    "A = np.matrix([[1,4,2,0], [9,5,0,0], [4,0,2,4], [6,1,8,3]])\n",
    "x = np.matrix([1,2,3,4]).reshape(-1,1)"
   ]
  },
  {
   "cell_type": "code",
   "execution_count": 56,
   "id": "b4db6f5f-4591-4e50-9be8-4b9d7cb5e656",
   "metadata": {},
   "outputs": [
    {
     "name": "stdout",
     "output_type": "stream",
     "text": [
      "A*x= [[15]\n",
      " [19]\n",
      " [26]\n",
      " [44]]\n"
     ]
    }
   ],
   "source": [
    "b = A*x\n",
    "print(\"A*x=\", b)"
   ]
  },
  {
   "cell_type": "code",
   "execution_count": 58,
   "id": "ce21b2db-f25e-4fd1-a247-36fe0a82f30a",
   "metadata": {},
   "outputs": [
    {
     "name": "stdout",
     "output_type": "stream",
     "text": [
      "A*x= [[24]\n",
      " [32]\n",
      " [30]]\n"
     ]
    }
   ],
   "source": [
    "A = np.matrix([[4,5,2,1], [2,3,8,0], [1,0,7,2]])\n",
    "b = A*x\n",
    "print(\"A*x=\", b)"
   ]
  },
  {
   "cell_type": "code",
   "execution_count": 59,
   "id": "041c2532-4bcd-4c25-a7f7-3402a59867a5",
   "metadata": {},
   "outputs": [],
   "source": [
    "###### test13"
   ]
  },
  {
   "cell_type": "code",
   "execution_count": 60,
   "id": "8fe57e82-6166-436d-a51c-cf483ea1319c",
   "metadata": {},
   "outputs": [],
   "source": [
    "import numpy as np\n",
    "import matplotlib.pyplot as plt\n",
    "from scipy import stats"
   ]
  },
  {
   "cell_type": "code",
   "execution_count": 61,
   "id": "5334e8fa-1b71-4ca4-b373-83548d778a66",
   "metadata": {},
   "outputs": [
    {
     "data": {
      "image/png": "[encoded data removed]",
      "text/plain": [
       "<Figure size 640x480 with 1 Axes>"
      ]
     },
     "metadata": {},
     "output_type": "display_data"
    }
   ],
   "source": [
    "x = [5,7,8,7,2,17,2,9,4,11,12,9,6]\n",
    "y = [99,86,87,88,111,86,103,87,94,78,77,85,86]\n",
    "\n",
    "slope, intercept, r, p, std_err = stats.linregress(x,y)\n",
    "\n",
    "def myfunc(x):\n",
    "    return slope * x + intercept\n",
    "\n",
    "xx = np.linspace(0,18,180)\n",
    "yy = slope * xx + intercept\n",
    "\n",
    "plt.scatter(x,y)\n",
    "plt.plot(xx,yy)\n",
    "plt.show()"
   ]
  },
  {
   "cell_type": "code",
   "execution_count": null,
   "id": "ca986d40-c897-4c8c-8f32-da18e15ed4a7",
   "metadata": {},
   "outputs": [],
   "source": []
  }
 ],
 "metadata": {
  "kernelspec": {
   "display_name": "Python 3 (ipykernel)",
   "language": "python",
   "name": "python3"
  },
  "language_info": {
   "codemirror_mode": {
    "name": "ipython",
    "version": 3
   },
   "file_extension": ".py",
   "mimetype": "text/x-python",
   "name": "python",
   "nbconvert_exporter": "python",
   "pygments_lexer": "ipython3",
   "version": "3.10.12"
  }
 },
 "nbformat": 4,
 "nbformat_minor": 5
}
