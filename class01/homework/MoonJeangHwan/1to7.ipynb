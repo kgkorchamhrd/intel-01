{
 "cells": [
  {
   "cell_type": "code",
   "execution_count": 8,
   "id": "cbdf84d7-4c34-48ee-bdf4-42e5942ab9ce",
   "metadata": {},
   "outputs": [],
   "source": [
    "a = 1\n",
    "b = 2.\n",
    "c = \"string\""
   ]
  },
  {
   "cell_type": "code",
   "execution_count": 9,
   "id": "928108b7-7146-4790-9622-b8d7a5ba1beb",
   "metadata": {},
   "outputs": [
    {
     "name": "stdout",
     "output_type": "stream",
     "text": [
      "1 2.0 string\n"
     ]
    }
   ],
   "source": [
    "print(a, b, c)"
   ]
  },
  {
   "cell_type": "code",
   "execution_count": 10,
   "id": "6598fde8-2fec-4573-b1b0-054f7e3350e8",
   "metadata": {},
   "outputs": [
    {
     "name": "stdout",
     "output_type": "stream",
     "text": [
      "<class 'int'> <class 'float'> <class 'int'>\n"
     ]
    }
   ],
   "source": [
    "print(type(a), type(b), type(a))"
   ]
  },
  {
   "cell_type": "code",
   "execution_count": 11,
   "id": "f940731e-7d33-4d8a-8105-71f4097dbc9d",
   "metadata": {},
   "outputs": [],
   "source": [
    "def f(x, y):\n",
    "    val = x + y\n",
    "    return val"
   ]
  },
  {
   "cell_type": "code",
   "execution_count": 12,
   "id": "cb6d928b-fc0e-41b7-ac28-70768efeb799",
   "metadata": {},
   "outputs": [
    {
     "name": "stdout",
     "output_type": "stream",
     "text": [
      "3\n"
     ]
    }
   ],
   "source": [
    "a = 1\n",
    "b = 2\n",
    "d = f(a, b)\n",
    "print(d)"
   ]
  },
  {
   "cell_type": "code",
   "execution_count": 16,
   "id": "a11f796d-da89-4bb5-852b-d9747856d1a1",
   "metadata": {},
   "outputs": [
    {
     "name": "stdout",
     "output_type": "stream",
     "text": [
      "3\n"
     ]
    }
   ],
   "source": [
    "f = lambda x,y : x + y\n",
    "a = 1\n",
    "b = 2\n",
    "d = f(a, b)\n",
    "print (d)"
   ]
  },
  {
   "cell_type": "code",
   "execution_count": 17,
   "id": "63a5d630-f80b-4931-87a6-39fae5ce8152",
   "metadata": {},
   "outputs": [
    {
     "name": "stdout",
     "output_type": "stream",
     "text": [
      "[1, 3, 4]\n"
     ]
    }
   ],
   "source": [
    "a = [1, 3, 4]\n",
    "print(a)"
   ]
  },
  {
   "cell_type": "code",
   "execution_count": 18,
   "id": "6d12341b-4849-4012-8fd3-e7ac8cf9eb9e",
   "metadata": {},
   "outputs": [
    {
     "name": "stdout",
     "output_type": "stream",
     "text": [
      "[9, 3, 4]\n"
     ]
    }
   ],
   "source": [
    "a[0]= 9\n",
    "print(a)"
   ]
  },
  {
   "cell_type": "code",
   "execution_count": 19,
   "id": "64e48149-5ba1-4252-8a8a-db2560c6c70d",
   "metadata": {},
   "outputs": [
    {
     "name": "stdout",
     "output_type": "stream",
     "text": [
      "[1, 3, 'string']\n"
     ]
    }
   ],
   "source": [
    "b = [1, 3, \"string\"]\n",
    "print(b)"
   ]
  },
  {
   "cell_type": "code",
   "execution_count": 22,
   "id": "1093e309-3658-48ad-9f2b-4372d15b42fd",
   "metadata": {},
   "outputs": [
    {
     "name": "stdout",
     "output_type": "stream",
     "text": [
      "[1, 3, 'string', 6.24]\n"
     ]
    }
   ],
   "source": [
    "b.append(6.24)\n",
    "print(b)"
   ]
  },
  {
   "cell_type": "code",
   "execution_count": 23,
   "id": "797f66d6-4f24-46d9-9f71-c05f4d50b49b",
   "metadata": {},
   "outputs": [
    {
     "name": "stdout",
     "output_type": "stream",
     "text": [
      "{'A': 2.3, 'B': 'C', 5: 'D'}\n"
     ]
    }
   ],
   "source": [
    "info = {\"A\" : 2.3, 'B' : 'C', 5 : 'D'}\n",
    "print(info)"
   ]
  },
  {
   "cell_type": "code",
   "execution_count": 24,
   "id": "0c8d1c5b-8015-4d37-a2df-e3c636b22bb5",
   "metadata": {},
   "outputs": [
    {
     "name": "stdout",
     "output_type": "stream",
     "text": [
      "{'A': 5.2, 'B': 'C', 5: 'D'}\n"
     ]
    }
   ],
   "source": [
    "info['A'] = 5.2\n",
    "print(info)"
   ]
  },
  {
   "cell_type": "code",
   "execution_count": 26,
   "id": "796efae4-13ec-4ce8-9f6c-d50b5af5d65c",
   "metadata": {},
   "outputs": [
    {
     "name": "stdout",
     "output_type": "stream",
     "text": [
      "{'A': 5.2, 'B': 'C', 5: 'D', 'Hello': [1, 2, 3, 4, 'World.']}\n"
     ]
    }
   ],
   "source": [
    "info['Hello'] = [1, 2, 3, 4, 'World.']\n",
    "print(info)"
   ]
  },
  {
   "cell_type": "code",
   "execution_count": 28,
   "id": "dd760173-6bfb-467e-a574-ceb5c014ce59",
   "metadata": {},
   "outputs": [
    {
     "name": "stdout",
     "output_type": "stream",
     "text": [
      "1 2\n",
      "3 4\n",
      "5 6\n"
     ]
    }
   ],
   "source": [
    "items = [[1, 2], [3, 4], [5, 6]]\n",
    "for item in items:\n",
    "    print(item[0], item[1])"
   ]
  },
  {
   "cell_type": "code",
   "execution_count": 29,
   "id": "f593690e-ecf7-40f1-9ee9-3fa80360c9b6",
   "metadata": {},
   "outputs": [
    {
     "name": "stdout",
     "output_type": "stream",
     "text": [
      "A 1\n",
      "B 2\n",
      "C 3\n"
     ]
    }
   ],
   "source": [
    "info = {'A' : 1, 'B' : 2, 'C' : 3}\n",
    "for key in info:\n",
    "    print(key, info[key])"
   ]
  },
  {
   "cell_type": "code",
   "execution_count": 30,
   "id": "25c2c66b-a5e8-43f0-be98-7a9bc98e3f0d",
   "metadata": {},
   "outputs": [
    {
     "name": "stdout",
     "output_type": "stream",
     "text": [
      "A 1\n",
      "B 2\n",
      "C 3\n"
     ]
    }
   ],
   "source": [
    "for key,value in info.items():\n",
    "    print(key, value)"
   ]
  },
  {
   "cell_type": "code",
   "execution_count": 32,
   "id": "c477d1f0-9f30-4422-a0c7-737aed6270ba",
   "metadata": {},
   "outputs": [
    {
     "name": "stdout",
     "output_type": "stream",
     "text": [
      "[[1, 2], [3, 4], [5, 6]]\n",
      "[['A', 'B'], ['C', 'D'], ['E', 'F']]\n"
     ]
    }
   ],
   "source": [
    "item1 = [[1, 2], [3, 4], [5, 6]]\n",
    "item2 = [['A', 'B'], ['C', 'D'], ['E', 'F']]\n",
    "print(item1)\n",
    "print(item2)"
   ]
  },
  {
   "cell_type": "code",
   "execution_count": 33,
   "id": "8c7a4372-04e1-4e52-9421-735940dde26b",
   "metadata": {},
   "outputs": [
    {
     "name": "stdout",
     "output_type": "stream",
     "text": [
      "[1, 2] ['A', 'B']\n",
      "[3, 4] ['C', 'D']\n",
      "[5, 6] ['E', 'F']\n"
     ]
    }
   ],
   "source": [
    "for digit, char in zip(item1, item2):\n",
    "    print(digit, char)"
   ]
  },
  {
   "cell_type": "code",
   "execution_count": 34,
   "id": "ac128959-bce1-4e8b-a87a-e5a3f5985366",
   "metadata": {},
   "outputs": [
    {
     "name": "stdout",
     "output_type": "stream",
     "text": [
      "[0, 1, 2, 3, 4]\n"
     ]
    }
   ],
   "source": [
    "a = []\n",
    "for k in range(0, 5):\n",
    "    a.append(k)\n",
    "print(a)"
   ]
  },
  {
   "cell_type": "code",
   "execution_count": 35,
   "id": "f1a70ab0-9921-4213-8828-be4b0703e0ef",
   "metadata": {},
   "outputs": [
    {
     "name": "stdout",
     "output_type": "stream",
     "text": [
      "[0, 1, 2, 3, 4]\n"
     ]
    }
   ],
   "source": [
    "a = [k for k in range(0, 5)]\n",
    "print(a)"
   ]
  },
  {
   "cell_type": "code",
   "execution_count": 37,
   "id": "f6e30f1e-2464-4b17-8745-5ac26ed6e8d6",
   "metadata": {},
   "outputs": [
    {
     "name": "stdout",
     "output_type": "stream",
     "text": [
      "[0, 2, 4]\n"
     ]
    }
   ],
   "source": [
    "a = [k for k in range(0, 5) if k %2 == 0]\n",
    "print(a)"
   ]
  },
  {
   "cell_type": "code",
   "execution_count": 38,
   "id": "e7340372-72ec-4c7b-9652-894ce395f39d",
   "metadata": {},
   "outputs": [
    {
     "name": "stdout",
     "output_type": "stream",
     "text": [
      "{0: 0, 1: 10, 2: 20, 3: 30, 4: 40}\n"
     ]
    }
   ],
   "source": [
    "a = {k : k*10 for k in range(0, 5)}\n",
    "print(a)"
   ]
  },
  {
   "cell_type": "code",
   "execution_count": 39,
   "id": "111d55ca-c168-4f7f-b3cd-6f55057ec65e",
   "metadata": {},
   "outputs": [
    {
     "name": "stdout",
     "output_type": "stream",
     "text": [
      "[(0, 'apple'), (1, 'banana'), (2, 'cherry')]\n"
     ]
    }
   ],
   "source": [
    "x = ('apple', 'banana', 'cherry')\n",
    "y = enumerate(x)\n",
    "print(list(y))"
   ]
  },
  {
   "cell_type": "code",
   "execution_count": null,
   "id": "7a683fe6-81ca-40a0-8ca9-5d9903958b1f",
   "metadata": {},
   "outputs": [],
   "source": []
  }
 ],
 "metadata": {
  "kernelspec": {
   "display_name": "Python 3 (ipykernel)",
   "language": "python",
   "name": "python3"
  },
  "language_info": {
   "codemirror_mode": {
    "name": "ipython",
    "version": 3
   },
   "file_extension": ".py",
   "mimetype": "text/x-python",
   "name": "python",
   "nbconvert_exporter": "python",
   "pygments_lexer": "ipython3",
   "version": "3.10.12"
  }
 },
 "nbformat": 4,
 "nbformat_minor": 5
}
