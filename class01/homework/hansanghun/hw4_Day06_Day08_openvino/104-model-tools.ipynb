{
 "cells": [
  {
   "cell_type": "markdown",
   "id": "artificial-discretion",
   "metadata": {},
   "source": [
    "# Working with Open Model Zoo Models\n",
    "This tutorial shows how to download a model from [Open Model Zoo](https://github.com/openvinotoolkit/open_model_zoo), convert it to OpenVINO™ IR format, show information about the model, and benchmark the model.\n",
    "\n",
    "#### Table of contents:\n",
    "- [OpenVINO and Open Model Zoo Tools](#OpenVINO-and-Open-Model-Zoo-Tools)\n",
    "- [Preparation](#Preparation)\n",
    "    - [Model Name](#Model-Name)\n",
    "    - [Imports](#Imports)\n",
    "    - [Settings and Configuration](#Settings-and-Configuration)\n",
    "- [Download a Model from Open Model Zoo](#Download-a-Model-from-Open-Model-Zoo)\n",
    "- [Convert a Model to OpenVINO IR format](#Convert-a-Model-to-OpenVINO-IR-format)\n",
    "- [Get Model Information](#Get-Model-Information)\n",
    "- [Run Benchmark Tool](#Run-Benchmark-Tool)\n",
    "    - [Benchmark with Different Settings](#Benchmark-with-Different-Settings)\n"
   ]
  },
  {
   "cell_type": "markdown",
   "id": "c4dda33e",
   "metadata": {},
   "source": [
    "## OpenVINO and Open Model Zoo Tools\n",
    "[back to top ⬆️](#Table-of-contents:)\n",
    "\n",
    "OpenVINO and Open Model Zoo tools are listed in the table below.\n",
    "\n",
    "| Tool             | Command             | Description                                             |\n",
    "|:-----------------|:--------------------|:--------------------------------------------------------|\n",
    "| Model Downloader | `omz_downloader`      | Download models from Open Model Zoo.                    |\n",
    "| Model Converter  | `omz_converter`       | Convert Open Model Zoo models to OpenVINO's IR format.  |\n",
    "| Info Dumper      | `omz_info_dumper`     | Print information about Open Model Zoo models.          |\n",
    "| Benchmark Tool   | `benchmark_app`       | Benchmark model performance by computing inference time.|"
   ]
  },
  {
   "cell_type": "code",
   "execution_count": 1,
   "id": "57288459",
   "metadata": {},
   "outputs": [
    {
     "name": "stdout",
     "output_type": "stream",
     "text": [
      "\u001b[33mWARNING: Retrying (Retry(total=4, connect=None, read=None, redirect=None, status=None)) after connection broken by 'ReadTimeoutError(\"HTTPSConnectionPool(host='pypi.org', port=443): Read timed out. (read timeout=15)\")': /simple/addict/\u001b[0m\u001b[33m\n",
      "\u001b[0mNote: you may need to restart the kernel to use updated packages.\n"
     ]
    }
   ],
   "source": [
    "# Install openvino package\n",
    "%pip install -q \"openvino-dev>=2023.1.0\""
   ]
  },
  {
   "cell_type": "markdown",
   "id": "fec90f61-08f3-4417-8a6f-ec61c9e5955b",
   "metadata": {
    "tags": [
     "hide"
    ]
   },
   "source": [
    "## Preparation\n",
    "[back to top ⬆️](#Table-of-contents:)\n",
    "\n",
    "### Model Name\n",
    "[back to top ⬆️](#Table-of-contents:)\n",
    "\n",
    "Set `model_name` to the name of the Open Model Zoo model to use in this notebook. Refer to the list of [public](https://github.com/openvinotoolkit/open_model_zoo/blob/master/models/public/index.md) and [Intel](https://github.com/openvinotoolkit/open_model_zoo/blob/master/models/intel/index.md) pre-trained models for a full list of models that can be used. Set `model_name` to the model you want to use."
   ]
  },
  {
   "cell_type": "code",
   "execution_count": 2,
   "id": "21d6d2be-05a8-4c52-9ad9-af892a76db1f",
   "metadata": {},
   "outputs": [],
   "source": [
    "# model_name = \"resnet-50-pytorch\"\n",
    "model_name = \"mobilenet-v2-pytorch\""
   ]
  },
  {
   "cell_type": "markdown",
   "id": "f0206a22-dc33-4666-ab2b-86386b97caca",
   "metadata": {
    "tags": [
     "hide"
    ]
   },
   "source": [
    "### Imports\n",
    "[back to top ⬆️](#Table-of-contents:)\n"
   ]
  },
  {
   "cell_type": "code",
   "execution_count": 3,
   "id": "impressed-uncertainty",
   "metadata": {},
   "outputs": [],
   "source": [
    "import json\n",
    "from pathlib import Path\n",
    "\n",
    "import openvino as ov\n",
    "from IPython.display import Markdown, display\n",
    "\n",
    "# Fetch `notebook_utils` module\n",
    "import urllib.request\n",
    "urllib.request.urlretrieve(\n",
    "    url='https://raw.githubusercontent.com/openvinotoolkit/openvino_notebooks/main/notebooks/utils/notebook_utils.py',\n",
    "    filename='notebook_utils.py'\n",
    ")\n",
    "from notebook_utils import DeviceNotFoundAlert, NotebookAlert"
   ]
  },
  {
   "cell_type": "markdown",
   "id": "parental-assets",
   "metadata": {
    "tags": [
     "hide"
    ]
   },
   "source": [
    "### Settings and Configuration\n",
    "[back to top ⬆️](#Table-of-contents:)\n",
    "\n",
    "Set the file and directory paths. By default, this notebook downloads models from Open Model Zoo to the `open_model_zoo_models` directory in your `$HOME` directory. On Windows, the $HOME directory is usually `c:\\users\\username`, on Linux `/home/username`. To change the folder, change `base_model_dir` in the cell below.\n",
    "\n",
    "The following settings can be changed:\n",
    "\n",
    "* `base_model_dir`: Models will be downloaded into the `intel` and `public` folders in this directory.\n",
    "* `omz_cache_dir`: Cache folder for Open Model Zoo. Specifying a cache directory is not required for Model Downloader and Model Converter, but it speeds up subsequent downloads.\n",
    "* `precision`: If specified, only models with this precision will be downloaded and converted."
   ]
  },
  {
   "cell_type": "code",
   "execution_count": 4,
   "id": "korean-agency",
   "metadata": {},
   "outputs": [
    {
     "name": "stdout",
     "output_type": "stream",
     "text": [
      "base_model_dir: model, omz_cache_dir: cache, gpu_availble: True\n"
     ]
    }
   ],
   "source": [
    "base_model_dir = Path(\"model\")\n",
    "omz_cache_dir = Path(\"cache\")\n",
    "precision = \"FP16\"\n",
    "\n",
    "# Check if an iGPU is available on this system to use with Benchmark App.\n",
    "core = ov.Core()\n",
    "gpu_available = \"GPU\" in core.available_devices\n",
    "\n",
    "print(\n",
    "    f\"base_model_dir: {base_model_dir}, omz_cache_dir: {omz_cache_dir}, gpu_availble: {gpu_available}\"\n",
    ")"
   ]
  },
  {
   "cell_type": "markdown",
   "id": "judicial-preview",
   "metadata": {},
   "source": [
    "## Download a Model from Open Model Zoo\n",
    "[back to top ⬆️](#Table-of-contents:)\n",
    "\n"
   ]
  },
  {
   "cell_type": "markdown",
   "id": "rising-interval",
   "metadata": {},
   "source": [
    "Specify, display and run the Model Downloader command to download the model."
   ]
  },
  {
   "cell_type": "code",
   "execution_count": 5,
   "id": "df2b0446-0c49-41cf-9f3f-dec1232249f7",
   "metadata": {},
   "outputs": [],
   "source": [
    "## Uncomment the next line to show help in omz_downloader which explains the command-line options.\n",
    "\n",
    "# !omz_downloader --help"
   ]
  },
  {
   "cell_type": "code",
   "execution_count": 6,
   "id": "556d0c12-15cf-492d-a1ed-41dff5090eff",
   "metadata": {},
   "outputs": [
    {
     "data": {
      "text/markdown": [
       "Download command: `omz_downloader --name mobilenet-v2-pytorch --output_dir model --cache_dir cache`"
      ],
      "text/plain": [
       "<IPython.core.display.Markdown object>"
      ]
     },
     "metadata": {},
     "output_type": "display_data"
    },
    {
     "data": {
      "text/markdown": [
       "Downloading mobilenet-v2-pytorch..."
      ],
      "text/plain": [
       "<IPython.core.display.Markdown object>"
      ]
     },
     "metadata": {},
     "output_type": "display_data"
    },
    {
     "name": "stdout",
     "output_type": "stream",
     "text": [
      "################|| Downloading mobilenet-v2-pytorch ||################\n",
      "\n",
      "========== Downloading model/public/mobilenet-v2-pytorch/mobilenet_v2-b0353104.pth\n",
      "... 100%, 13879 KB, 5839 KB/s, 2 seconds passed\n",
      "\n"
     ]
    }
   ],
   "source": [
    "download_command = (\n",
    "    f\"omz_downloader --name {model_name} --output_dir {base_model_dir} --cache_dir {omz_cache_dir}\"\n",
    ")\n",
    "display(Markdown(f\"Download command: `{download_command}`\"))\n",
    "display(Markdown(f\"Downloading {model_name}...\"))\n",
    "! $download_command"
   ]
  },
  {
   "cell_type": "markdown",
   "id": "proprietary-checklist",
   "metadata": {},
   "source": [
    "## Convert a Model to OpenVINO IR format\n",
    "[back to top ⬆️](#Table-of-contents:)\n",
    "\n",
    "Specify, display and run the Model Converter command to convert the model to OpenVINO IR format. Model conversion may take a while. The output of the Model Converter command will be displayed. When the conversion is successful, the last lines of the output will include: `[ SUCCESS ] Generated IR version 11 model.` For downloaded models that are already in OpenVINO IR format, conversion will be skipped."
   ]
  },
  {
   "cell_type": "code",
   "execution_count": 20,
   "id": "11fe7461-90db-4585-b55f-b3df42b01274",
   "metadata": {},
   "outputs": [
    {
     "name": "stdout",
     "output_type": "stream",
     "text": [
      "usage: omz_converter [-h] [-d DIR] [-o DIR] [--name PAT[,PAT...]]\n",
      "                     [--list FILE.LST] [--all] [--print_all]\n",
      "                     [--precisions PREC[,PREC...]] [-p PYTHON] [--mo MO.PY]\n",
      "                     [--add_mo_arg ARG] [--dry_run] [-j JOBS]\n",
      "\n",
      "options:\n",
      "  -h, --help            show this help message and exit\n",
      "  -d DIR, --download_dir DIR\n",
      "                        root of the directory tree with downloaded model files\n",
      "  -o DIR, --output_dir DIR\n",
      "                        root of the directory tree to place converted files\n",
      "                        into\n",
      "  --name PAT[,PAT...]   convert only models whose names match at least one of\n",
      "                        the specified patterns\n",
      "  --list FILE.LST       convert only models whose names match at least one of\n",
      "                        the patterns in the specified file\n",
      "  --all                 convert all available models\n",
      "  --print_all           print all available models\n",
      "  --precisions PREC[,PREC...]\n",
      "                        run only conversions that produce models with the\n",
      "                        specified precisions\n",
      "  -p PYTHON, --python PYTHON\n",
      "                        Python executable to run Model Optimizer with\n",
      "  --mo MO.PY            Model Optimizer entry point script\n",
      "  --add_mo_arg ARG      Extra argument to pass to Model Optimizer\n",
      "  --dry_run             Print the conversion commands without running them\n",
      "  -j JOBS, --jobs JOBS  number of conversions to run concurrently\n"
     ]
    }
   ],
   "source": [
    "## Uncomment the next line to show Help in omz_converter which explains the command-line options.\n",
    "\n",
    "!omz_converter --help"
   ]
  },
  {
   "cell_type": "code",
   "execution_count": 9,
   "id": "engaged-academy",
   "metadata": {},
   "outputs": [
    {
     "data": {
      "text/markdown": [
       "Convert command: `omz_converter --name mobilenet-v2-pytorch --precisions FP16 --download_dir model --output_dir model`"
      ],
      "text/plain": [
       "<IPython.core.display.Markdown object>"
      ]
     },
     "metadata": {},
     "output_type": "display_data"
    },
    {
     "data": {
      "text/markdown": [
       "Converting mobilenet-v2-pytorch..."
      ],
      "text/plain": [
       "<IPython.core.display.Markdown object>"
      ]
     },
     "metadata": {},
     "output_type": "display_data"
    },
    {
     "name": "stdout",
     "output_type": "stream",
     "text": [
      "========== Converting mobilenet-v2-pytorch to ONNX\n",
      "Conversion to ONNX command: /home/user/.openvino_env/bin/python3 -- /home/user/.openvino_env/lib/python3.10/site-packages/openvino/model_zoo/internal_scripts/pytorch_to_onnx.py --model-name=mobilenet_v2 --weights=model/public/mobilenet-v2-pytorch/mobilenet_v2-b0353104.pth --import-module=torchvision.models --input-shape=1,3,224,224 --output-file=model/public/mobilenet-v2-pytorch/mobilenet-v2.onnx --input-names=data --output-names=prob\n",
      "\n",
      "ONNX check passed successfully.\n",
      "\n",
      "========== Converting mobilenet-v2-pytorch to IR (FP16)\n",
      "Conversion command: /home/user/.openvino_env/bin/python3 -- /home/user/.openvino_env/bin/mo --framework=onnx --output_dir=model/public/mobilenet-v2-pytorch/FP16 --model_name=mobilenet-v2-pytorch --input=data '--mean_values=data[123.675,116.28,103.53]' '--scale_values=data[58.624,57.12,57.375]' --reverse_input_channels --output=prob --input_model=model/public/mobilenet-v2-pytorch/mobilenet-v2.onnx '--layout=data(NCHW)' '--input_shape=[1, 3, 224, 224]' --compress_to_fp16=True\n",
      "\n",
      "[ INFO ] Generated IR will be compressed to FP16. If you get lower accuracy, please consider disabling compression explicitly by adding argument --compress_to_fp16=False.\n",
      "Find more information about compression to FP16 at https://docs.openvino.ai/2023.0/openvino_docs_MO_DG_FP16_Compression.html\n",
      "[ INFO ] The model was converted to IR v11, the latest model format that corresponds to the source DL framework input/output format. While IR v11 is backwards compatible with OpenVINO Inference Engine API v1.0, please use API v2.0 (as of 2022.1) to take advantage of the latest improvements in IR v11.\n",
      "Find more information about API v2.0 and IR v11 at https://docs.openvino.ai/2023.0/openvino_2_0_transition_guide.html\n",
      "[ SUCCESS ] Generated IR version 11 model.\n",
      "[ SUCCESS ] XML file: /home/user/openvino/openvino_notebooks/notebooks/104-model-tools/model/public/mobilenet-v2-pytorch/FP16/mobilenet-v2-pytorch.xml\n",
      "[ SUCCESS ] BIN file: /home/user/openvino/openvino_notebooks/notebooks/104-model-tools/model/public/mobilenet-v2-pytorch/FP16/mobilenet-v2-pytorch.bin\n",
      "\n"
     ]
    }
   ],
   "source": [
    "convert_command = f\"omz_converter --name {model_name} --precisions {precision} --download_dir {base_model_dir} --output_dir {base_model_dir}\"\n",
    "display(Markdown(f\"Convert command: `{convert_command}`\"))\n",
    "display(Markdown(f\"Converting {model_name}...\"))\n",
    "\n",
    "! $convert_command"
   ]
  },
  {
   "cell_type": "markdown",
   "id": "aa8d655f-215d-4e3c-adcb-e8fd4a2e8ab4",
   "metadata": {},
   "source": [
    "## Get Model Information\n",
    "[back to top ⬆️](#Table-of-contents:)\n",
    "\n",
    "The Info Dumper prints the following information for Open Model Zoo models:\n",
    "\n",
    "* Model name\n",
    "* Description\n",
    "* Framework that was used to train the model\n",
    "* License URL\n",
    "* Precisions supported by the model\n",
    "* Subdirectory: the location of the downloaded model\n",
    "* Task type\n",
    "\n",
    "This information can be shown by running `omz_info_dumper --name model_name` in a terminal. The information can also be parsed and used in scripts. \n",
    "\n",
    "In the next cell, run Info Dumper and use `json` to load the information in a dictionary. "
   ]
  },
  {
   "cell_type": "code",
   "execution_count": 10,
   "id": "b8247daf-d3c5-4420-b4c8-d305ac4ace5b",
   "metadata": {},
   "outputs": [
    {
     "data": {
      "text/plain": [
       "[{'name': 'mobilenet-v2-pytorch',\n",
       "  'composite_model_name': None,\n",
       "  'description': 'MobileNet V2 is image classification model pre-trained on ImageNet dataset. This is a PyTorch* implementation of MobileNetV2 architecture as described in the paper \"Inverted Residuals and Linear Bottlenecks: Mobile Networks for Classification, Detection and Segmentation\" <https://arxiv.org/abs/1801.04381>.\\nThe model input is a blob that consists of a single image of \"1, 3, 224, 224\" in \"RGB\" order.\\nThe model output is typical object classifier for the 1000 different classifications matching with those in the ImageNet database.',\n",
       "  'framework': 'pytorch',\n",
       "  'license_url': 'https://raw.githubusercontent.com/pytorch/vision/master/LICENSE',\n",
       "  'accuracy_config': '/home/user/.openvino_env/lib/python3.10/site-packages/openvino/model_zoo/models/public/mobilenet-v2-pytorch/accuracy-check.yml',\n",
       "  'model_config': '/home/user/.openvino_env/lib/python3.10/site-packages/openvino/model_zoo/models/public/mobilenet-v2-pytorch/model.yml',\n",
       "  'precisions': ['FP16', 'FP32'],\n",
       "  'quantization_output_precisions': ['FP16-INT8', 'FP32-INT8'],\n",
       "  'subdirectory': 'public/mobilenet-v2-pytorch',\n",
       "  'task_type': 'classification',\n",
       "  'input_info': [{'name': 'data',\n",
       "    'shape': [1, 3, 224, 224],\n",
       "    'layout': 'NCHW'}],\n",
       "  'model_stages': []}]"
      ]
     },
     "execution_count": 10,
     "metadata": {},
     "output_type": "execute_result"
    }
   ],
   "source": [
    "model_info_output = %sx omz_info_dumper --name $model_name\n",
    "model_info = json.loads(model_info_output.get_nlstr())\n",
    "\n",
    "if len(model_info) > 1:\n",
    "    NotebookAlert(\n",
    "        f\"There are multiple IR files for the {model_name} model. The first model in the \"\n",
    "        \"omz_info_dumper output will be used for benchmarking. Change \"\n",
    "        \"`selected_model_info` in the cell below to select a different model from the list.\",\n",
    "        \"warning\",\n",
    "    )\n",
    "\n",
    "model_info"
   ]
  },
  {
   "cell_type": "markdown",
   "id": "7ea7e868-fd2d-4d11-9c87-7aa1f1301083",
   "metadata": {},
   "source": [
    "Having information of the model in a JSON file enables extraction of the path to the model directory, and building the path to the OpenVINO IR file."
   ]
  },
  {
   "cell_type": "code",
   "execution_count": 11,
   "id": "de1a319e-bbef-414c-921d-60938b4a01a8",
   "metadata": {},
   "outputs": [
    {
     "name": "stdout",
     "output_type": "stream",
     "text": [
      "model/public/mobilenet-v2-pytorch/FP16/mobilenet-v2-pytorch.xml exists: True\n"
     ]
    }
   ],
   "source": [
    "selected_model_info = model_info[0]\n",
    "model_path = (\n",
    "    base_model_dir\n",
    "    / Path(selected_model_info[\"subdirectory\"])\n",
    "    / Path(f\"{precision}/{selected_model_info['name']}.xml\")\n",
    ")\n",
    "print(model_path, \"exists:\", model_path.exists())"
   ]
  },
  {
   "cell_type": "markdown",
   "id": "54e01154-f700-479f-9111-147c95595d46",
   "metadata": {},
   "source": [
    "## Run Benchmark Tool\n",
    "[back to top ⬆️](#Table-of-contents:)\n",
    "\n",
    "By default, Benchmark Tool runs inference for 60 seconds in asynchronous mode on CPU. It returns inference speed as latency (milliseconds per image) and throughput values (frames per second). "
   ]
  },
  {
   "cell_type": "code",
   "execution_count": 22,
   "id": "282452e8-24c7-49c0-bdb2-10677971c30f",
   "metadata": {},
   "outputs": [
    {
     "name": "stdout",
     "output_type": "stream",
     "text": [
      "[Step 1/11] Parsing and validating input arguments\n",
      "[ INFO ] Parsing input parameters\n",
      "usage: benchmark_app [-h [HELP]] [-i PATHS_TO_INPUT [PATHS_TO_INPUT ...]] -m\n",
      "                     PATH_TO_MODEL [-d TARGET_DEVICE]\n",
      "                     [-hint {throughput,tput,cumulative_throughput,ctput,latency,none}]\n",
      "                     [-niter NUMBER_ITERATIONS] [-t TIME] [-b BATCH_SIZE]\n",
      "                     [-shape SHAPE] [-data_shape DATA_SHAPE] [-layout LAYOUT]\n",
      "                     [-extensions EXTENSIONS] [-c PATH_TO_CLDNN_CONFIG]\n",
      "                     [-cdir CACHE_DIR] [-lfile [LOAD_FROM_FILE]]\n",
      "                     [-api {sync,async}] [-nireq NUMBER_INFER_REQUESTS]\n",
      "                     [-nstreams NUMBER_STREAMS]\n",
      "                     [-inference_only [INFERENCE_ONLY]]\n",
      "                     [-infer_precision INFER_PRECISION]\n",
      "                     [-ip {bool,f16,f32,f64,i8,i16,i32,i64,u8,u16,u32,u64}]\n",
      "                     [-op {bool,f16,f32,f64,i8,i16,i32,i64,u8,u16,u32,u64}]\n",
      "                     [-iop INPUT_OUTPUT_PRECISION] [--mean_values [R,G,B]]\n",
      "                     [--scale_values [R,G,B]] [-nthreads NUMBER_THREADS]\n",
      "                     [-pin {YES,NO,NUMA,HYBRID_AWARE}]\n",
      "                     [-latency_percentile LATENCY_PERCENTILE]\n",
      "                     [-report_type {no_counters,average_counters,detailed_counters}]\n",
      "                     [-report_folder REPORT_FOLDER] [-json_stats [JSON_STATS]]\n",
      "                     [-pc [PERF_COUNTS]] [-pcsort {no_sort,sort,simple_sort}]\n",
      "                     [-pcseq [PCSEQ]] [-exec_graph_path EXEC_GRAPH_PATH]\n",
      "                     [-dump_config DUMP_CONFIG] [-load_config LOAD_CONFIG]\n",
      "\n",
      "Options:\n",
      "  -h [HELP], --help [HELP]\n",
      "                        Show this help message and exit.\n",
      "                        \n",
      "  -i PATHS_TO_INPUT [PATHS_TO_INPUT ...], --paths_to_input PATHS_TO_INPUT [PATHS_TO_INPUT ...]\n",
      "                        Optional. Path to a folder with images and/or binaries\n",
      "                        or to specific image or binary file.It is also allowed\n",
      "                        to map files to model inputs:\n",
      "                        input_1:file_1/dir1,file_2/dir2,input_4:file_4/dir4\n",
      "                        input_2:file_3/dir3 Currently supported data types:\n",
      "                        bin, npy. If OPENCV is enabled, this functionalityis\n",
      "                        extended with the following data types: bmp, dib,\n",
      "                        jpeg, jpg, jpe, jp2, png, pbm, pgm, ppm, sr, ras,\n",
      "                        tiff, tif.\n",
      "                        \n",
      "  -m PATH_TO_MODEL, --path_to_model PATH_TO_MODEL\n",
      "                        Required. Path to an .xml/.onnx file with a trained\n",
      "                        model or to a .blob file with a trained compiled\n",
      "                        model.\n",
      "                        \n",
      "  -d TARGET_DEVICE, --target_device TARGET_DEVICE\n",
      "                        Optional. Specify a target device to infer on (the\n",
      "                        list of available devices is shown below). Default\n",
      "                        value is CPU. Use '-d HETERO:<comma separated devices\n",
      "                        list>' format to specify HETERO plugin. Use '-d\n",
      "                        MULTI:<comma separated devices list>' format to\n",
      "                        specify MULTI plugin. The application looks for a\n",
      "                        suitable plugin for the specified device.\n",
      "                        \n",
      "  -hint {throughput,tput,cumulative_throughput,ctput,latency,none}, --perf_hint {throughput,tput,cumulative_throughput,ctput,latency,none}\n",
      "                        Optional. Performance hint (latency or throughput or\n",
      "                        cumulative_throughput or none). Performance hint\n",
      "                        allows the OpenVINO device to select the right model-\n",
      "                        specific settings. 'throughput': device performance\n",
      "                        mode will be set to THROUGHPUT.\n",
      "                        'cumulative_throughput': device performance mode will\n",
      "                        be set to CUMULATIVE_THROUGHPUT. 'latency': device\n",
      "                        performance mode will be set to LATENCY. 'none': no\n",
      "                        device performance mode will be set. Using explicit\n",
      "                        'nstreams' or other device-specific options, please\n",
      "                        set hint to 'none'\n",
      "                        \n",
      "  -niter NUMBER_ITERATIONS, --number_iterations NUMBER_ITERATIONS\n",
      "                        Optional. Number of iterations. If not specified, the\n",
      "                        number of iterations is calculated depending on a\n",
      "                        device.\n",
      "                        \n",
      "  -t TIME, --time TIME  Optional. Time in seconds to execute topology.\n",
      "                        \n",
      "  -api {sync,async}, --api_type {sync,async}\n",
      "                        Optional. Enable using sync/async API. Default value\n",
      "                        is async.\n",
      "                        \n",
      "  -json_stats [JSON_STATS], --json_stats [JSON_STATS]\n",
      "                        Optional. Enables JSON-based statistics output (by\n",
      "                        default reporting system will use CSV format). Should\n",
      "                        be used together with -report_folder option.\n",
      "                        \n",
      "\n",
      "Input shapes:\n",
      "  -b BATCH_SIZE, --batch_size BATCH_SIZE\n",
      "                        Optional. Batch size value. If not specified, the\n",
      "                        batch size value is determined from Intermediate\n",
      "                        Representation\n",
      "                        \n",
      "  -shape SHAPE          Optional. Set shape for input. For example,\n",
      "                        \"input1[1,3,224,224],input2[1,4]\" or \"[1,3,224,224]\"\n",
      "                        in case of one input size. This parameter affect model\n",
      "                        Parameter shape, can be dynamic. For dynamic dimesions\n",
      "                        use symbol `?`, `-1` or range `low.. up`.\n",
      "                        \n",
      "  -data_shape DATA_SHAPE\n",
      "                        Optional. Optional if model shapes are all static\n",
      "                        (original ones or set by -shape).Required if at least\n",
      "                        one input shape is dynamic and input images are not\n",
      "                        provided.Set shape for input tensors. For example,\n",
      "                        \"input1[1,3,224,224][1,3,448,448],input2[1,4][1,8]\" or\n",
      "                        \"[1,3,224,224][1,3,448,448] in case of one input size.\n",
      "                        \n",
      "  -layout LAYOUT        Optional. Prompts how model layouts should be treated\n",
      "                        by application. For example, \"input1[NCHW],input2[NC]\"\n",
      "                        or \"[NCHW]\" in case of one input size.\n",
      "                        \n",
      "\n",
      "Advanced options:\n",
      "  -extensions EXTENSIONS, --extensions EXTENSIONS\n",
      "                        Optional. Path or a comma-separated list of paths to\n",
      "                        libraries (.so or .dll) with extensions.\n",
      "                        \n",
      "  -c PATH_TO_CLDNN_CONFIG, --path_to_cldnn_config PATH_TO_CLDNN_CONFIG\n",
      "                        Optional. Required for GPU custom kernels. Absolute\n",
      "                        path to an .xml file with the kernels description.\n",
      "                        \n",
      "  -cdir CACHE_DIR, --cache_dir CACHE_DIR\n",
      "                        Optional. Enable model caching to specified directory\n",
      "                        \n",
      "  -lfile [LOAD_FROM_FILE], --load_from_file [LOAD_FROM_FILE]\n",
      "                        Optional. Loads model from file directly without\n",
      "                        read_model.\n",
      "                        \n",
      "  -nireq NUMBER_INFER_REQUESTS, --number_infer_requests NUMBER_INFER_REQUESTS\n",
      "                        Optional. Number of infer requests. Default value is\n",
      "                        determined automatically for device.\n",
      "                        \n",
      "  -nstreams NUMBER_STREAMS, --number_streams NUMBER_STREAMS\n",
      "                        Optional. Number of streams to use for inference on\n",
      "                        the CPU/GPU (for HETERO and MULTI device cases use\n",
      "                        format <device1>:<nstreams1>,<device2>:<nstreams2> or\n",
      "                        just <nstreams>). Default value is determined\n",
      "                        automatically for a device. Please note that although\n",
      "                        the automatic selection usually provides a reasonable\n",
      "                        performance, it still may be non - optimal for some\n",
      "                        cases, especially for very small models. Also, using\n",
      "                        nstreams>1 is inherently throughput-oriented option,\n",
      "                        while for the best-latency estimations the number of\n",
      "                        streams should be set to 1. See samples README for\n",
      "                        more details.\n",
      "                        \n",
      "  -inference_only [INFERENCE_ONLY], --inference_only [INFERENCE_ONLY]\n",
      "                        Optional. If true inputs filling only once before\n",
      "                        measurements (default for static models), else inputs\n",
      "                        filling is included into loop measurement (default for\n",
      "                        dynamic models)\n",
      "                        \n",
      "  -infer_precision INFER_PRECISION\n",
      "                        Optional. Specifies the inference precision. Example\n",
      "                        #1: '-infer_precision bf16'. Example #2:\n",
      "                        '-infer_precision CPU:bf16,GPU:f32'\n",
      "                        \n",
      "  -exec_graph_path EXEC_GRAPH_PATH, --exec_graph_path EXEC_GRAPH_PATH\n",
      "                        Optional. Path to a file where to store executable\n",
      "                        graph information serialized.\n",
      "                        \n",
      "\n",
      "Preprocessing options:\n",
      "  -ip {bool,f16,f32,f64,i8,i16,i32,i64,u8,u16,u32,u64}, --input_precision {bool,f16,f32,f64,i8,i16,i32,i64,u8,u16,u32,u64}\n",
      "                        Optional. Specifies precision for all input layers of\n",
      "                        the model.\n",
      "                        \n",
      "  -op {bool,f16,f32,f64,i8,i16,i32,i64,u8,u16,u32,u64}, --output_precision {bool,f16,f32,f64,i8,i16,i32,i64,u8,u16,u32,u64}\n",
      "                        Optional. Specifies precision for all output layers of\n",
      "                        the model.\n",
      "                        \n",
      "  -iop INPUT_OUTPUT_PRECISION, --input_output_precision INPUT_OUTPUT_PRECISION\n",
      "                        Optional. Specifies precision for input and output\n",
      "                        layers by name. Example: -iop \"input:f16, output:f16\".\n",
      "                        Notice that quotes are required. Overwrites precision\n",
      "                        from ip and op options for specified layers.\n",
      "                        \n",
      "  --mean_values [R,G,B]\n",
      "                        Optional. Mean values to be used for the input image\n",
      "                        per channel. Values to be provided in the [R,G,B]\n",
      "                        format. Can be defined for desired input of the model,\n",
      "                        for example: \"--mean_values\n",
      "                        data[255,255,255],info[255,255,255]\". The exact\n",
      "                        meaning and order of channels depend on how the\n",
      "                        original model was trained. Applying the values\n",
      "                        affects performance and may cause type conversion\n",
      "                        \n",
      "  --scale_values [R,G,B]\n",
      "                        Optional. Scale values to be used for the input image\n",
      "                        per channel. Values are provided in the [R,G,B]\n",
      "                        format. Can be defined for desired input of the model,\n",
      "                        for example: \"--scale_values\n",
      "                        data[255,255,255],info[255,255,255]\". The exact\n",
      "                        meaning and order of channels depend on how the\n",
      "                        original model was trained. If both --mean_values and\n",
      "                        --scale_values are specified, the mean is subtracted\n",
      "                        first and then scale is applied regardless of the\n",
      "                        order of options in command line. Applying the values\n",
      "                        affects performance and may cause type conversion\n",
      "                        \n",
      "\n",
      "Device-specific performance options:\n",
      "  -nthreads NUMBER_THREADS, --number_threads NUMBER_THREADS\n",
      "                        Number of threads to use for inference on the CPU, GNA\n",
      "                        (including HETERO and MULTI cases).\n",
      "                        \n",
      "  -pin {YES,NO,NUMA,HYBRID_AWARE}, --infer_threads_pinning {YES,NO,NUMA,HYBRID_AWARE}\n",
      "                        Optional. Enable threads->cores ('YES' which is\n",
      "                        OpenVINO runtime's default for conventional CPUs),\n",
      "                        threads->(NUMA)nodes ('NUMA'), threads->appropriate\n",
      "                        core types ('HYBRID_AWARE', which is OpenVINO\n",
      "                        runtime's default for Hybrid CPUs) or completely\n",
      "                        disable ('NO') CPU threads pinning for CPU-involved\n",
      "                        inference.\n",
      "                        \n",
      "\n",
      "Statistics dumping options:\n",
      "  -latency_percentile LATENCY_PERCENTILE, --latency_percentile LATENCY_PERCENTILE\n",
      "                        Optional. Defines the percentile to be reported in\n",
      "                        latency metric. The valid range is [1, 100]. The\n",
      "                        default value is 50 (median).\n",
      "                        \n",
      "  -report_type {no_counters,average_counters,detailed_counters}, --report_type {no_counters,average_counters,detailed_counters}\n",
      "                        Optional. Enable collecting statistics report.\n",
      "                        \"no_counters\" report contains configuration options\n",
      "                        specified, resulting FPS and latency.\n",
      "                        \"average_counters\" report extends \"no_counters\" report\n",
      "                        and additionally includes average PM counters values\n",
      "                        for each layer from the model. \"detailed_counters\"\n",
      "                        report extends \"average_counters\" report and\n",
      "                        additionally includes per-layer PM counters and\n",
      "                        latency for each executed infer request.\n",
      "                        \n",
      "  -report_folder REPORT_FOLDER, --report_folder REPORT_FOLDER\n",
      "                        Optional. Path to a folder where statistics report is\n",
      "                        stored.\n",
      "                        \n",
      "  -pc [PERF_COUNTS], --perf_counts [PERF_COUNTS]\n",
      "                        Optional. Report performance counters.\n",
      "                        \n",
      "  -pcsort {no_sort,sort,simple_sort}, --perf_counts_sort {no_sort,sort,simple_sort}\n",
      "                        Optional. Report performance counters and analysis the\n",
      "                        sort hotpoint opts. sort: Analysis opts time cost,\n",
      "                        print by hotpoint order no_sort: Analysis opts time\n",
      "                        cost, print by normal order simple_sort: Analysis opts\n",
      "                        time cost, only print EXECUTED opts by normal order\n",
      "                        \n",
      "  -pcseq [PCSEQ], --pcseq [PCSEQ]\n",
      "                        Optional. Report latencies for each shape in\n",
      "                        -data_shape sequence.\n",
      "                        \n",
      "  -dump_config DUMP_CONFIG\n",
      "                        Optional. Path to JSON file to dump OpenVINO\n",
      "                        parameters, which were set by application.\n",
      "                        \n",
      "  -load_config LOAD_CONFIG\n",
      "                        Optional. Path to JSON file to load custom OpenVINO parameters.\n",
      "                        Please note, command line parameters have higher priority then parameters from configuration file.\n",
      "                        Example 1: a simple JSON file for HW device with primary properties.\n",
      "                                     {\n",
      "                                        \"CPU\": {\"NUM_STREAMS\": \"3\", \"PERF_COUNT\": \"NO\"}\n",
      "                                     }\n",
      "                        Example 2: a simple JSON file for meta device(AUTO/MULTI) with HW device properties.\n",
      "                                     {\n",
      "                                        \"AUTO\": {\n",
      "                                             \"PERFORMANCE_HINT\": \"THROUGHPUT\",\n",
      "                                             \"PERF_COUNT\": \"NO\",\n",
      "                                             \"DEVICE_PROPERTIES\": \"{CPU:{INFERENCE_PRECISION_HINT:f32,NUM_STREAMS:3},GPU:{INFERENCE_PRECISION_HINT:f32,NUM_STREAMS:5}}\"\n",
      "                                        }\n",
      "                                     }\n",
      "\n",
      "Available target devices:   CPU  GPU\n"
     ]
    }
   ],
   "source": [
    "## Uncomment the next line to show Help in benchmark_app which explains the command-line options.\n",
    "!benchmark_app --help"
   ]
  },
  {
   "cell_type": "code",
   "execution_count": 23,
   "id": "9812b0c8-8cd0-4840-bca3-a28171d055b7",
   "metadata": {
    "tags": [],
    "test_replace": {
     "-t 15": "-t 3"
    }
   },
   "outputs": [
    {
     "data": {
      "text/markdown": [
       "Benchmark command: `benchmark_app -m model/public/mobilenet-v2-pytorch/FP16/mobilenet-v2-pytorch.xml -t 15 -d GPU`"
      ],
      "text/plain": [
       "<IPython.core.display.Markdown object>"
      ]
     },
     "metadata": {},
     "output_type": "display_data"
    },
    {
     "data": {
      "text/markdown": [
       "Benchmarking mobilenet-v2-pytorch on CPU with async inference for 15 seconds..."
      ],
      "text/plain": [
       "<IPython.core.display.Markdown object>"
      ]
     },
     "metadata": {},
     "output_type": "display_data"
    },
    {
     "name": "stdout",
     "output_type": "stream",
     "text": [
      "[Step 1/11] Parsing and validating input arguments\n",
      "[ INFO ] Parsing input parameters\n",
      "[Step 2/11] Loading OpenVINO Runtime\n",
      "[ INFO ] OpenVINO:\n",
      "[ INFO ] Build ................................. 2023.2.0-13089-cfd42bd2cb0-HEAD\n",
      "[ INFO ] \n",
      "[ INFO ] Device info:\n",
      "[ INFO ] GPU\n",
      "[ INFO ] Build ................................. 2023.2.0-13089-cfd42bd2cb0-HEAD\n",
      "[ INFO ] \n",
      "[ INFO ] \n",
      "[Step 3/11] Setting device configuration\n",
      "[ WARNING ] Performance hint was not explicitly specified in command line. Device(GPU) performance hint will be set to PerformanceMode.THROUGHPUT.\n",
      "[Step 4/11] Reading model files\n",
      "[ INFO ] Loading model files\n",
      "[ INFO ] Read model took 7.26 ms\n",
      "[ INFO ] Original model I/O parameters:\n",
      "[ INFO ] Model inputs:\n",
      "[ INFO ]     data (node: data) : f32 / [N,C,H,W] / [1,3,224,224]\n",
      "[ INFO ] Model outputs:\n",
      "[ INFO ]     prob (node: prob) : f32 / [...] / [1,1000]\n",
      "[Step 5/11] Resizing model to match image sizes and given batch\n",
      "[ INFO ] Model batch size: 1\n",
      "[Step 6/11] Configuring input of the model\n",
      "[ INFO ] Model inputs:\n",
      "[ INFO ]     data (node: data) : u8 / [N,C,H,W] / [1,3,224,224]\n",
      "[ INFO ] Model outputs:\n",
      "[ INFO ]     prob (node: prob) : f32 / [...] / [1,1000]\n",
      "[Step 7/11] Loading the model to the device\n",
      "[ INFO ] Compile model took 2457.14 ms\n",
      "[Step 8/11] Querying optimal runtime parameters\n",
      "[ INFO ] Model:\n",
      "[ INFO ]   OPTIMAL_NUMBER_OF_INFER_REQUESTS: 32\n",
      "[ INFO ]   NETWORK_NAME: main_graph\n",
      "[ INFO ]   EXECUTION_DEVICES: ['OCL_GPU.0']\n",
      "[ INFO ]   AUTO_BATCH_TIMEOUT: 1000\n",
      "[Step 9/11] Creating infer requests and preparing input tensors\n",
      "[ WARNING ] No input files were given for input 'data'!. This input will be filled with random values!\n",
      "[ INFO ] Fill input 'data' with random values \n",
      "[Step 10/11] Measuring performance (Start inference asynchronously, 32 inference requests, limits: 15000 ms duration)\n",
      "[ INFO ] Benchmarking in inference only mode (inputs filling are not included in measurement loop).\n",
      "[ INFO ] First inference took 1003.13 ms\n",
      "[Step 11/11] Dumping statistics report\n",
      "[ INFO ] Execution Devices:['OCL_GPU.0']\n",
      "[ INFO ] Count:            11328 iterations\n",
      "[ INFO ] Duration:         15047.35 ms\n",
      "[ INFO ] Latency:\n",
      "[ INFO ]    Median:        42.20 ms\n",
      "[ INFO ]    Average:       42.28 ms\n",
      "[ INFO ]    Min:           25.87 ms\n",
      "[ INFO ]    Max:           49.34 ms\n",
      "[ INFO ] Throughput:   752.82 FPS\n"
     ]
    }
   ],
   "source": [
    "benchmark_command = f\"benchmark_app -m {model_path} -t 15 -d GPU\"\n",
    "display(Markdown(f\"Benchmark command: `{benchmark_command}`\"))\n",
    "display(Markdown(f\"Benchmarking {model_name} on CPU with async inference for 15 seconds...\"))\n",
    "\n",
    "! $benchmark_command"
   ]
  },
  {
   "cell_type": "markdown",
   "id": "75891996-cf53-4c76-ad3c-5fb468ccd7bb",
   "metadata": {},
   "source": [
    "### Benchmark with Different Settings\n",
    "[back to top ⬆️](#Table-of-contents:)\n"
   ]
  },
  {
   "cell_type": "markdown",
   "id": "88d64dd7-789d-4536-ab8f-84999c73afaf",
   "metadata": {},
   "source": [
    "The `benchmark_app` tool displays logging information that is not always necessary. A more compact result is achieved when the output is parsed with `json`.\n",
    "\n",
    "The following cells show some examples of `benchmark_app` with different parameters. Below are some useful parameters:\n",
    "\n",
    "- `-d` A device to use for inference. For example: CPU, GPU, MULTI. Default: CPU.\n",
    "- `-t` Time expressed in number of seconds to run inference. Default: 60.\n",
    "- `-api` Use asynchronous (async) or synchronous (sync) inference. Default: async.\n",
    "- `-b` Batch size. Default: 1.\n",
    "\n",
    "\n",
    "Run `! benchmark_app --help` to get an overview of all possible command-line parameters.\n",
    "\n",
    "In the next cell, define the `benchmark_model()` function that calls `benchmark_app`. This makes it easy to try different combinations. In the cell below that, you display available devices on the system.\n",
    "\n",
    "> **Note**: In this notebook, `benchmark_app` runs for 15 seconds to give a quick indication of performance. For more accurate performance, it is recommended to run inference for at least one minute by setting the `t` parameter to 60 or higher, and run `benchmark_app` in a terminal/command prompt after closing other applications. Copy the **benchmark command** and paste it in a command prompt where you have activated the `openvino_env` environment. "
   ]
  },
  {
   "cell_type": "code",
   "execution_count": 14,
   "id": "7742390e-df71-45e1-9572-f3cbaa576ec3",
   "metadata": {},
   "outputs": [],
   "source": [
    "def benchmark_model(model_xml, device=\"CPU\", seconds=60, api=\"async\", batch=1):\n",
    "    core = ov.Core()\n",
    "    model_path = Path(model_xml)\n",
    "    if (\"GPU\" in device) and (\"GPU\" not in core.available_devices):\n",
    "        DeviceNotFoundAlert(\"GPU\")\n",
    "    else:\n",
    "        benchmark_command = f\"benchmark_app -m {model_path} -d {device} -t {seconds} -api {api} -b {batch}\"\n",
    "        display(Markdown(f\"**Benchmark {model_path.name} with {device} for {seconds} seconds with {api} inference**\"))\n",
    "        display(Markdown(f\"Benchmark command: `{benchmark_command}`\"))\n",
    "\n",
    "        benchmark_output = %sx $benchmark_command\n",
    "        print(\"command ended\")\n",
    "        benchmark_result = [line for line in benchmark_output\n",
    "                            if not (line.startswith(r\"[\") or line.startswith(\"      \") or line == \"\")]\n",
    "        print(\"\\n\".join(benchmark_result))"
   ]
  },
  {
   "cell_type": "code",
   "execution_count": 15,
   "id": "298904f0-638c-4958-876a-3b8c8bd06518",
   "metadata": {},
   "outputs": [
    {
     "name": "stdout",
     "output_type": "stream",
     "text": [
      "CPU: 13th Gen Intel(R) Core(TM) i5-13400\n",
      "GPU: Intel(R) Graphics [0x4682] (iGPU)\n"
     ]
    }
   ],
   "source": [
    "core = ov.Core()\n",
    "\n",
    "# Show devices available for OpenVINO Runtime\n",
    "for device in core.available_devices:\n",
    "    device_name = core.get_property(device, \"FULL_DEVICE_NAME\")\n",
    "    print(f\"{device}: {device_name}\")"
   ]
  },
  {
   "cell_type": "code",
   "execution_count": 16,
   "id": "486919e1",
   "metadata": {},
   "outputs": [
    {
     "data": {
      "text/markdown": [
       "**Benchmark mobilenet-v2-pytorch.xml with CPU for 15 seconds with async inference**"
      ],
      "text/plain": [
       "<IPython.core.display.Markdown object>"
      ]
     },
     "metadata": {},
     "output_type": "display_data"
    },
    {
     "data": {
      "text/markdown": [
       "Benchmark command: `benchmark_app -m model/public/mobilenet-v2-pytorch/FP16/mobilenet-v2-pytorch.xml -d CPU -t 15 -api async -b 1`"
      ],
      "text/plain": [
       "<IPython.core.display.Markdown object>"
      ]
     },
     "metadata": {},
     "output_type": "display_data"
    },
    {
     "name": "stdout",
     "output_type": "stream",
     "text": [
      "command ended\n",
      "\n"
     ]
    }
   ],
   "source": [
    "benchmark_model(model_path, device=\"CPU\", seconds=15, api=\"async\")"
   ]
  },
  {
   "cell_type": "code",
   "execution_count": 17,
   "id": "b1d4c745-a4c2-4242-a2e7-fff1eb098b98",
   "metadata": {
    "tags": [],
    "test_replace": {
     "seconds=15": "seconds=3"
    }
   },
   "outputs": [
    {
     "data": {
      "text/markdown": [
       "**Benchmark mobilenet-v2-pytorch.xml with AUTO for 15 seconds with async inference**"
      ],
      "text/plain": [
       "<IPython.core.display.Markdown object>"
      ]
     },
     "metadata": {},
     "output_type": "display_data"
    },
    {
     "data": {
      "text/markdown": [
       "Benchmark command: `benchmark_app -m model/public/mobilenet-v2-pytorch/FP16/mobilenet-v2-pytorch.xml -d AUTO -t 15 -api async -b 1`"
      ],
      "text/plain": [
       "<IPython.core.display.Markdown object>"
      ]
     },
     "metadata": {},
     "output_type": "display_data"
    },
    {
     "name": "stdout",
     "output_type": "stream",
     "text": [
      "command ended\n",
      "\n"
     ]
    }
   ],
   "source": [
    "benchmark_model(model_path, device=\"AUTO\", seconds=15, api=\"async\")"
   ]
  },
  {
   "cell_type": "code",
   "execution_count": 18,
   "id": "5d47e1cf-cb2f-4138-928c-b56891d5c318",
   "metadata": {
    "tags": [],
    "test_replace": {
     "seconds=15": "seconds=3"
    }
   },
   "outputs": [
    {
     "data": {
      "text/markdown": [
       "**Benchmark mobilenet-v2-pytorch.xml with GPU for 15 seconds with async inference**"
      ],
      "text/plain": [
       "<IPython.core.display.Markdown object>"
      ]
     },
     "metadata": {},
     "output_type": "display_data"
    },
    {
     "data": {
      "text/markdown": [
       "Benchmark command: `benchmark_app -m model/public/mobilenet-v2-pytorch/FP16/mobilenet-v2-pytorch.xml -d GPU -t 15 -api async -b 1`"
      ],
      "text/plain": [
       "<IPython.core.display.Markdown object>"
      ]
     },
     "metadata": {},
     "output_type": "display_data"
    },
    {
     "name": "stdout",
     "output_type": "stream",
     "text": [
      "command ended\n",
      "\n"
     ]
    }
   ],
   "source": [
    "benchmark_model(model_path, device=\"GPU\", seconds=15, api=\"async\")"
   ]
  },
  {
   "cell_type": "code",
   "execution_count": 19,
   "id": "4a1b0bb2-87c7-44c9-92bf-1d95aa1500a1",
   "metadata": {
    "tags": [],
    "test_replace": {
     "seconds=15": "seconds=3"
    }
   },
   "outputs": [
    {
     "data": {
      "text/markdown": [
       "**Benchmark mobilenet-v2-pytorch.xml with MULTI:CPU,GPU for 15 seconds with async inference**"
      ],
      "text/plain": [
       "<IPython.core.display.Markdown object>"
      ]
     },
     "metadata": {},
     "output_type": "display_data"
    },
    {
     "data": {
      "text/markdown": [
       "Benchmark command: `benchmark_app -m model/public/mobilenet-v2-pytorch/FP16/mobilenet-v2-pytorch.xml -d MULTI:CPU,GPU -t 15 -api async -b 1`"
      ],
      "text/plain": [
       "<IPython.core.display.Markdown object>"
      ]
     },
     "metadata": {},
     "output_type": "display_data"
    },
    {
     "name": "stdout",
     "output_type": "stream",
     "text": [
      "command ended\n",
      "\n"
     ]
    }
   ],
   "source": [
    "benchmark_model(model_path, device=\"MULTI:CPU,GPU\", seconds=15, api=\"async\")"
   ]
  },
  {
   "cell_type": "code",
   "execution_count": null,
   "id": "65315118-291d-4b65-bb6a-c4fcccdf8edd",
   "metadata": {},
   "outputs": [],
   "source": []
  }
 ],
 "metadata": {
  "kernelspec": {
   "display_name": "Python 3 (ipykernel)",
   "language": "python",
   "name": "python3"
  },
  "language_info": {
   "codemirror_mode": {
    "name": "ipython",
    "version": 3
   },
   "file_extension": ".py",
   "mimetype": "text/x-python",
   "name": "python",
   "nbconvert_exporter": "python",
   "pygments_lexer": "ipython3",
   "version": "3.10.12"
  }
 },
 "nbformat": 4,
 "nbformat_minor": 5
}
